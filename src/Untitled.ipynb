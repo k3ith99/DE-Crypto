{
 "cells": [
  {
   "cell_type": "code",
   "execution_count": 1,
   "id": "5dbe56fb-00f7-448a-91cb-441fd2185c52",
   "metadata": {},
   "outputs": [],
   "source": [
    "%load_ext pycodestyle_magic\n",
    "%pycodestyle_on\n",
    "# %pycodestyle_off -to turn it off"
   ]
  },
  {
   "cell_type": "code",
   "execution_count": 26,
   "id": "0ac5e417-9a0a-41e5-aee8-dfff5addcf71",
   "metadata": {},
   "outputs": [],
   "source": [
    "%pycodestyle_off -to turn it off"
   ]
  },
  {
   "cell_type": "code",
   "execution_count": 24,
   "id": "54cb767a-7b5a-4cba-b24d-0ae3feded6be",
   "metadata": {},
   "outputs": [
    {
     "data": {
      "text/plain": [
       "True"
      ]
     },
     "execution_count": 24,
     "metadata": {},
     "output_type": "execute_result"
    },
    {
     "name": "stderr",
     "output_type": "stream",
     "text": [
      "4:80: E501 line too long (84 > 79 characters)\n",
      "11:18: E231 missing whitespace after ','\n",
      "12:1: E402 module level import not at top of file\n",
      "20:1: E402 module level import not at top of file\n",
      "21:1: E402 module level import not at top of file\n",
      "22:1: E402 module level import not at top of file\n"
     ]
    }
   ],
   "source": [
    "from minio import Minio\n",
    "from pyspark import SparkContext\n",
    "from pyspark.sql import SparkSession\n",
    "from pyspark.sql.types import StructType, StructField, TimestampNTZType, DecimalType\n",
    "from binance import Client\n",
    "import os\n",
    "from dotenv import load_dotenv, dotenv_values\n",
    "import logging\n",
    "import sys\n",
    "import numpy\n",
    "sys.path.insert(0,'./pipelines/shared')\n",
    "from utils import (\n",
    "    parquet_to_df,\n",
    "    data_cleaning,\n",
    "    add_crypto_id,\n",
    "    add_time_id,\n",
    "    upload_time,\n",
    "    upload_price,\n",
    ")\n",
    "import pyspark.pandas as ps\n",
    "import matplotlib as plt\n",
    "import typing\n",
    "load_dotenv(dotenv_path=\"./pipelines/shared/main.env\", override=True)"
   ]
  },
  {
   "cell_type": "code",
   "execution_count": 3,
   "id": "5e599f2a-a8c2-4d5b-8acc-6550f36bd0d9",
   "metadata": {},
   "outputs": [],
   "source": [
    "API_KEY = os.getenv(\"API_KEY\")\n",
    "SECRET_KEY = os.getenv(\"SECRET_KEY\")\n",
    "MINIO_USER = os.getenv(\"MINIO_ROOT_USER\")\n",
    "MINIO_PASSWORD = os.getenv(\"MINIO_ROOT_PASSWORD\")\n",
    "client_binance = Client(API_KEY, SECRET_KEY)"
   ]
  },
  {
   "cell_type": "code",
   "execution_count": 4,
   "id": "4023de86-2b14-4e29-90e0-64a949ce864c",
   "metadata": {},
   "outputs": [
    {
     "name": "stderr",
     "output_type": "stream",
     "text": [
      "25/06/03 15:19:03 WARN SparkSession: Using an existing Spark session; only runtime SQL configurations will take effect.\n",
      "3:80: E501 line too long (82 > 79 characters)\n",
      "7:67: E261 at least two spaces before inline comment\n",
      "7:67: E262 inline comment should start with '# '\n",
      "7:80: E501 line too long (101 > 79 characters)\n",
      "7:102: W291 trailing whitespace\n",
      "13:80: E501 line too long (80 > 79 characters)\n"
     ]
    }
   ],
   "source": [
    "spark = SparkSession.builder \\\n",
    "    .appName(\"CryptoETL\") \\\n",
    "    .config(\"spark.jars\", \"/Users/hamza/Desktop/projects/postgresql-42.7.5.jar\") \\\n",
    "    .getOrCreate()\n",
    "# Get the SparkContext from the SparkSession\n",
    "sc = spark.sparkContext\n",
    "sc._jsc.hadoopConfiguration().set(\"fs.s3a.access.key\", MINIO_USER)#turn into access key in the future \n",
    "sc._jsc.hadoopConfiguration().set(\"fs.s3a.secret.key\", MINIO_PASSWORD)\n",
    "sc._jsc.hadoopConfiguration().set(\"fs.s3a.endpoint\", \"http://localhost:9000\")\n",
    "sc._jsc.hadoopConfiguration().set(\"fs.s3a.connection.ssl.enabled\", \"true\")\n",
    "sc._jsc.hadoopConfiguration().set(\"fs.s3a.path.style.access\", \"true\")\n",
    "sc._jsc.hadoopConfiguration().set(\"fs.s3a.attempts.maximum\", \"1\")\n",
    "sc._jsc.hadoopConfiguration().set(\"fs.s3a.connection.establish.timeout\", \"5000\")\n",
    "sc._jsc.hadoopConfiguration().set(\"fs.s3a.connection.timeout\", \"10000\")"
   ]
  },
  {
   "cell_type": "code",
   "execution_count": 5,
   "id": "457ad682-a432-4de4-b526-4331b68563fa",
   "metadata": {},
   "outputs": [
    {
     "name": "stderr",
     "output_type": "stream",
     "text": [
      "2:31: E261 at least two spaces before inline comment\n",
      "2:32: E262 inline comment should start with '# '\n"
     ]
    }
   ],
   "source": [
    "logger = logging.getLogger(__name__)\n",
    "logger.setLevel(logging.DEBUG) #set to debug to capture all levels\n",
    "if logger.hasHandlers():\n",
    "    logger.handlers.clear()\n",
    "logger.propagate = False"
   ]
  },
  {
   "cell_type": "code",
   "execution_count": 6,
   "id": "847fe01e-ba2f-417d-8d7e-41fbfaffedfe",
   "metadata": {},
   "outputs": [],
   "source": [
    "handler = logging.StreamHandler()\n",
    "handler.setLevel(logging.DEBUG)\n",
    "logger.addHandler(handler)"
   ]
  },
  {
   "cell_type": "code",
   "execution_count": 7,
   "id": "1db13ab6-33e9-4a1b-84d9-f6c0dacd306a",
   "metadata": {},
   "outputs": [
    {
     "name": "stderr",
     "output_type": "stream",
     "text": [
      "11:80: E501 line too long (82 > 79 characters)\n",
      "13:80: E501 line too long (80 > 79 characters)\n",
      "21:1: E265 block comment should start with '# '\n"
     ]
    }
   ],
   "source": [
    "client_minio = Minio(\n",
    "    \"localhost:9000\",  # Make sure you're using port 9000 for the S3 API\n",
    "    # minio_url,\n",
    "    access_key=MINIO_USER,\n",
    "    secret_key=MINIO_PASSWORD,\n",
    "    secure=False,  # Disable SSL if you're not using SSL certificates\n",
    ")\n",
    "\n",
    "schema = StructType(\n",
    "    [\n",
    "        StructField(name=\"datetime\", dataType=TimestampNTZType(), nullable=False),\n",
    "        StructField(name=\"Open Price\", dataType=DecimalType(), nullable=False),\n",
    "        StructField(name=\"Close Price\", dataType=DecimalType(), nullable=False),\n",
    "        StructField(name=\"Volume\", dataType=DecimalType(), nullable=False),\n",
    "    ]\n",
    ")\n",
    "# doesnt work for parquet files, schema inferred from that instead\n",
    "\n",
    "\n",
    "read_sql = \"SELECT * FROM crypto\"\n",
    "#localhost for local development and container ip for containers\n",
    "df_crypto = (\n",
    "    spark.read.format(\"jdbc\")\n",
    "    .option(\"url\", \"jdbc:postgresql://localhost:5432/crypto\")\n",
    "    .option(\"user\", \"postgres\")\n",
    "    .option(\"password\", \"postgres\")\n",
    "    .option(\"query\", read_sql)\n",
    "    .option(\"driver\", \"org.postgresql.Driver\")\n",
    "    .load()\n",
    ")"
   ]
  },
  {
   "cell_type": "code",
   "execution_count": 8,
   "id": "90a2ff75-9ba5-4fd5-99c2-f84b468daaf8",
   "metadata": {},
   "outputs": [
    {
     "name": "stderr",
     "output_type": "stream",
     "text": [
      "25/06/03 15:19:03 WARN MetricsConfig: Cannot locate configuration: tried hadoop-metrics2-s3a-file-system.properties,hadoop-metrics2.properties\n",
      "1:80: E501 line too long (99 > 79 characters)\n"
     ]
    }
   ],
   "source": [
    "df = parquet_to_df(client_minio=client_minio, timeframe=\"monthly\", crypto=\"BTCUSDT\", schema=schema)\n",
    "df_cleaned = data_cleaning(df)"
   ]
  },
  {
   "cell_type": "code",
   "execution_count": 9,
   "id": "49284749-85f9-46be-95a3-e693d1f6a719",
   "metadata": {},
   "outputs": [
    {
     "name": "stderr",
     "output_type": "stream",
     "text": [
      "1:1: E265 block comment should start with '# '\n",
      "1:80: E501 line too long (83 > 79 characters)\n",
      "2:1: E265 block comment should start with '# '\n",
      "3:1: E265 block comment should start with '# '\n",
      "4:1: E265 block comment should start with '# '\n",
      "5:1: E265 block comment should start with '# '\n",
      "6:1: E265 block comment should start with '# '\n",
      "7:1: E265 block comment should start with '# '\n"
     ]
    }
   ],
   "source": [
    "#standard deviation - 1 year volatility, all time volatility and rolling volatility\n",
    "#moving averages\n",
    "#percentage changes in price and volume\n",
    "#drawdown\n",
    "#correlation\n",
    "#need market index data for beta\n",
    "#volume rate of change?"
   ]
  },
  {
   "cell_type": "code",
   "execution_count": 10,
   "id": "faebce37-d82e-467a-b9f8-91cbe1c4dd28",
   "metadata": {},
   "outputs": [],
   "source": [
    "ps.set_option(\"compute.ops_on_diff_frames\", True)"
   ]
  },
  {
   "cell_type": "code",
   "execution_count": 19,
   "id": "5d1dc588-e5d7-4208-9cba-d7996731f484",
   "metadata": {},
   "outputs": [
    {
     "name": "stderr",
     "output_type": "stream",
     "text": [
      "2:63: E251 unexpected spaces around keyword / parameter equals\n",
      "2:65: E251 unexpected spaces around keyword / parameter equals\n",
      "3:1: W391 blank line at end of file\n"
     ]
    }
   ],
   "source": [
    "psdf = df_cleaned.pandas_api()\n",
    "psdf_sorted = psdf.sort_values(by='datetime').reset_index(drop = True)\n"
   ]
  },
  {
   "cell_type": "code",
   "execution_count": 20,
   "id": "da1a06f3-fc29-475a-a85e-2cf14c4d1e41",
   "metadata": {
    "collapsed": true,
    "jupyter": {
     "outputs_hidden": true
    }
   },
   "outputs": [
    {
     "name": "stderr",
     "output_type": "stream",
     "text": [
      "1:58: E251 unexpected spaces around keyword / parameter equals\n",
      "1:60: E251 unexpected spaces around keyword / parameter equals\n",
      "1:63: E231 missing whitespace after ','\n",
      "1:73: E251 unexpected spaces around keyword / parameter equals\n",
      "1:75: E251 unexpected spaces around keyword / parameter equals\n",
      "1:80: E231 missing whitespace after ','\n",
      "1:80: E501 line too long (96 > 79 characters)\n",
      "1:85: E251 unexpected spaces around keyword / parameter equals\n",
      "1:87: E251 unexpected spaces around keyword / parameter equals\n",
      "2:70: E251 unexpected spaces around keyword / parameter equals\n",
      "2:72: E251 unexpected spaces around keyword / parameter equals\n",
      "10:64: E225 missing whitespace around operator\n",
      "10:80: E501 line too long (95 > 79 characters)\n",
      "12:70: E251 unexpected spaces around keyword / parameter equals\n",
      "12:72: E251 unexpected spaces around keyword / parameter equals\n"
     ]
    }
   ],
   "source": [
    "psdf_sorted['ema'] = psdf_sorted['close'].ewm(min_periods = 12,ignore_na = True,span = 6).mean()\n",
    "psdf_sorted = psdf_sorted.sort_values(by='datetime').reset_index(drop = True)\n",
    "monthly_pct_change = psdf_sorted['close'].pct_change()\n",
    "monthly_pct_change = monthly_pct_change.round(3)\n",
    "psdf_sorted['monthly_pct_change'] = monthly_pct_change\n",
    "std = psdf_sorted['monthly_pct_change'].rolling(window=12).std()\n",
    "psdf_sorted['rolling_std_12_months'] = std\n",
    "sma = psdf_sorted['close'].rolling(window=12).mean()\n",
    "psdf_sorted['sma'] = sma\n",
    "vroc = (psdf_sorted['volume'] - psdf_sorted['volume'].shift(6))/ psdf_sorted['volume'].shift(6)\n",
    "psdf_sorted['vroc'] = vroc\n",
    "psdf_sorted = psdf_sorted.sort_values(by='datetime').reset_index(drop = True)"
   ]
  },
  {
   "cell_type": "code",
   "execution_count": 34,
   "id": "83d1ffd9-4716-4d5f-9732-00fdf1456524",
   "metadata": {},
   "outputs": [],
   "source": [
    "def calculations(frequency:str,df):\n",
    "    '''\n",
    "    Converts spark dataframe to pyspark pandas dataframe and calculates all fields required by calculations table\n",
    "    '''\n",
    "    ps.set_option(\"compute.ops_on_diff_frames\", True)\n",
    "    window = None\n",
    "    if frequency == 'daily':\n",
    "        window = 365\n",
    "        window_ma = 50\n",
    "    elif frequency == 'monthly':\n",
    "        window_ma = 12\n",
    "        window = 12\n",
    "    \n",
    "    try:\n",
    "        psdf = df.pandas_api()\n",
    "        psdf_sorted = psdf.sort_values(by='datetime').reset_index(drop = True)\n",
    "        psdf_sorted['ema'] = psdf_sorted['close'].ewm(min_periods = window_ma,ignore_na = True,span = 6).mean()\n",
    "        psdf_sorted = psdf_sorted.sort_values(by='datetime').reset_index(drop = True)\n",
    "        col_name = f\"{frequency}_pct_change\"\n",
    "        psdf_sorted[col_name] = psdf_sorted['close'].pct_change().round(3)\n",
    "        std = psdf_sorted[col_name].rolling(window=window).std()\n",
    "        psdf_sorted['rolling_std'] = std\n",
    "        sma = psdf_sorted['close'].rolling(window=window_ma).mean()\n",
    "        psdf_sorted['sma'] = sma\n",
    "        vroc = (psdf_sorted['volume'] - psdf_sorted['volume'].shift(int(window / 2)))/ psdf_sorted['volume'].shift(int(window / 2))\n",
    "        psdf_sorted['vroc'] = vroc\n",
    "        psdf_sorted = psdf_sorted.sort_values(by='datetime').reset_index(drop = True)\n",
    "        df = psdf_sorted.to_spark()\n",
    "    except Exception as e:\n",
    "        logger.error(\n",
    "            f\"Error running calculations:{e}\", stack_info=True, exc_info=True\n",
    "        )\n",
    "        return df"
   ]
  },
  {
   "cell_type": "code",
   "execution_count": 29,
   "id": "872977d2-9200-4cbd-b9a0-da189911d8e1",
   "metadata": {},
   "outputs": [
    {
     "data": {
      "text/plain": [
       "Index(['datetime', 'open', 'close', 'volume', 'ema', 'monthly_pct_change',\n",
       "       'rolling_std_12_months', 'sma', 'vroc'],\n",
       "      dtype='object')"
      ]
     },
     "execution_count": 29,
     "metadata": {},
     "output_type": "execute_result"
    }
   ],
   "source": [
    "psdf_sorted.columns"
   ]
  },
  {
   "cell_type": "code",
   "execution_count": 35,
   "id": "f7c605b8-1148-44ce-af1a-e7d2f41a8d81",
   "metadata": {},
   "outputs": [],
   "source": [
    "!pip show pandas"
   ]
  },
  {
   "cell_type": "code",
   "execution_count": 37,
   "id": "68e3adfa-0b68-45e9-b24c-079da967cfdf",
   "metadata": {},
   "outputs": [
    {
     "ename": "AttributeError",
     "evalue": "__version__",
     "output_type": "error",
     "traceback": [
      "\u001b[0;31m---------------------------------------------------------------------------\u001b[0m",
      "\u001b[0;31mAttributeError\u001b[0m                            Traceback (most recent call last)",
      "Cell \u001b[0;32mIn[37], line 1\u001b[0m\n\u001b[0;32m----> 1\u001b[0m \u001b[38;5;28mprint\u001b[39m(\u001b[43mps\u001b[49m\u001b[38;5;241;43m.\u001b[39;49m\u001b[43m \u001b[49m\u001b[43m__version__\u001b[49m)\n",
      "File \u001b[0;32m~/.local/share/virtualenvs/DE-Crypto-aeKJmBel/lib/python3.9/site-packages/pyspark/pandas/__init__.py:159\u001b[0m, in \u001b[0;36m__getattr__\u001b[0;34m(key)\u001b[0m\n\u001b[1;32m    157\u001b[0m \u001b[38;5;28;01mdef\u001b[39;00m\u001b[38;5;250m \u001b[39m\u001b[38;5;21m__getattr__\u001b[39m(key: \u001b[38;5;28mstr\u001b[39m) \u001b[38;5;241m-\u001b[39m\u001b[38;5;241m>\u001b[39m Any:\n\u001b[1;32m    158\u001b[0m     \u001b[38;5;28;01mif\u001b[39;00m key\u001b[38;5;241m.\u001b[39mstartswith(\u001b[38;5;124m\"\u001b[39m\u001b[38;5;124m__\u001b[39m\u001b[38;5;124m\"\u001b[39m):\n\u001b[0;32m--> 159\u001b[0m         \u001b[38;5;28;01mraise\u001b[39;00m \u001b[38;5;167;01mAttributeError\u001b[39;00m(key)\n\u001b[1;32m    160\u001b[0m     \u001b[38;5;28;01mif\u001b[39;00m \u001b[38;5;28mhasattr\u001b[39m(MissingPandasLikeScalars, key):\n\u001b[1;32m    161\u001b[0m         \u001b[38;5;28;01mraise\u001b[39;00m \u001b[38;5;28mgetattr\u001b[39m(MissingPandasLikeScalars, key)\n",
      "\u001b[0;31mAttributeError\u001b[0m: __version__"
     ]
    }
   ],
   "source": [
    "print(ps. __version__)"
   ]
  },
  {
   "cell_type": "code",
   "execution_count": null,
   "id": "b8e174e4-73c2-482a-9a2f-5ea1ef91b8b9",
   "metadata": {},
   "outputs": [],
   "source": []
  }
 ],
 "metadata": {
  "kernelspec": {
   "display_name": "Python 3 (ipykernel)",
   "language": "python",
   "name": "python3"
  },
  "language_info": {
   "codemirror_mode": {
    "name": "ipython",
    "version": 3
   },
   "file_extension": ".py",
   "mimetype": "text/x-python",
   "name": "python",
   "nbconvert_exporter": "python",
   "pygments_lexer": "ipython3",
   "version": "3.9.1"
  }
 },
 "nbformat": 4,
 "nbformat_minor": 5
}
