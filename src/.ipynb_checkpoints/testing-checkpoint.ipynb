{
 "cells": [
  {
   "cell_type": "code",
   "execution_count": 1,
   "id": "a2610a2d-8b5a-4e7a-ae7b-a53bea4fca9f",
   "metadata": {},
   "outputs": [],
   "source": [
    "%load_ext pycodestyle_magic\n",
    "%pycodestyle_on\n",
    "# %pycodestyle_off -to turn it off"
   ]
  },
  {
   "cell_type": "code",
   "execution_count": 35,
   "id": "176ccd7b-e558-4275-a61f-9ea5b537ff64",
   "metadata": {},
   "outputs": [
    {
     "data": {
      "text/plain": [
       "True"
      ]
     },
     "execution_count": 35,
     "metadata": {},
     "output_type": "execute_result"
    }
   ],
   "source": [
    "# import all libraries\n",
    "from pyspark import SparkContext\n",
    "from pyspark.sql import SparkSession\n",
    "from pyspark.sql.functions import col, to_timestamp\n",
    "import requests\n",
    "import json\n",
    "import pandas as pd\n",
    "from binance import Client\n",
    "from datetime import datetime\n",
    "import os\n",
    "from dotenv import load_dotenv, dotenv_values\n",
    "\n",
    "load_dotenv()"
   ]
  },
  {
   "cell_type": "code",
   "execution_count": 3,
   "id": "0d85afa7-52c7-4ca8-a5a1-94680a141540",
   "metadata": {},
   "outputs": [
    {
     "name": "stderr",
     "output_type": "stream",
     "text": [
      "Setting default log level to \"WARN\".\n",
      "To adjust logging level use sc.setLogLevel(newLevel). For SparkR, use setLogLevel(newLevel).\n",
      "25/02/04 18:31:49 WARN NativeCodeLoader: Unable to load native-hadoop library for your platform... using builtin-java classes where applicable\n",
      "25/02/04 18:31:50 WARN Utils: Service 'SparkUI' could not bind on port 4040. Attempting port 4041.\n"
     ]
    }
   ],
   "source": [
    "API_KEY = os.getenv(\"API_KEY\")\n",
    "SECRET_KEY = os.getenv(\"SECRET_KEY\")\n",
    "client = Client(API_KEY, SECRET_KEY)\n",
    "spark = SparkSession.builder.appName(\"test\").getOrCreate()"
   ]
  },
  {
   "cell_type": "code",
   "execution_count": 5,
   "id": "dba7af90-e48f-4df7-9d26-bf3d55fb6b52",
   "metadata": {},
   "outputs": [
    {
     "name": "stderr",
     "output_type": "stream",
     "text": [
      "1:1: E265 block comment should start with '# '\n",
      "1:36: W291 trailing whitespace\n",
      "2:1: E265 block comment should start with '# '\n",
      "3:1: E265 block comment should start with '# '\n"
     ]
    }
   ],
   "source": [
    "# tickers = client.get_all_tickers()\n",
    "# client.get_exchange_info() #has rate limit info\n",
    "# client.response.headers #has info on current usage"
   ]
  },
  {
   "cell_type": "code",
   "execution_count": 123,
   "id": "43221467-2c02-43e1-9e97-1b05e89fcc52",
   "metadata": {},
   "outputs": [],
   "source": [
    "# start_datetime = datetime.strptime(\"01-01-2023\", '%d-%m-%Y')\n",
    "# start_date = start_datetime.strftime(\"%Y-%m-%dT%H:%M:%SZ\")\n",
    "\n",
    "# end_datetime = datetime.strptime(\"01-01-2024\", '%d-%m-%Y')\n",
    "# end_date_date = end_datetime.strftime(\"%Y-%m-%dT%H:%M:%SZ\")"
   ]
  },
  {
   "cell_type": "code",
   "execution_count": 14,
   "id": "14fe7f8b-c5c8-4978-89df-41ddbfb576e2",
   "metadata": {},
   "outputs": [],
   "source": [
    "start_date = \"01-01-2023\"\n",
    "end_date = \"12-31-2023\"\n",
    "symbol = \"BTCUSDT\"\n",
    "interval = \"1M\""
   ]
  },
  {
   "cell_type": "code",
   "execution_count": 15,
   "id": "a39c63e2-2521-4f36-969e-b0bfd8217a00",
   "metadata": {},
   "outputs": [
    {
     "name": "stderr",
     "output_type": "stream",
     "text": [
      "2:80: E501 line too long (88 > 79 characters)\n"
     ]
    }
   ],
   "source": [
    "klines = client.get_historical_klines(\n",
    "    symbol=symbol, interval=interval, start_str=start_date, end_str=end_date, limit=1000\n",
    ")"
   ]
  },
  {
   "cell_type": "code",
   "execution_count": 6,
   "id": "deb2ddab-286b-4606-84d6-0db6a02234cc",
   "metadata": {
    "collapsed": true,
    "jupyter": {
     "outputs_hidden": true
    },
    "scrolled": true
   },
   "outputs": [
    {
     "data": {
      "text/plain": [
       "'[\\n  [\\n    1499040000000,      // Kline open time\\n    \"0.01634790\",       // Open price\\n    \"0.80000000\",       // High price\\n    \"0.01575800\",       // Low price\\n    \"0.01577100\",       // Close price\\n    \"148976.11427815\",  // Volume\\n    1499644799999,      // Kline Close time\\n    \"2434.19055334\",    // Quote asset volume\\n    308,                // Number of trades\\n    \"1756.87402397\",    // Taker buy base asset volume\\n    \"28.46694368\",      // Taker buy quote asset volume\\n    \"0\"                 // Unused field, ignore.\\n  ]\\n]'"
      ]
     },
     "execution_count": 6,
     "metadata": {},
     "output_type": "execute_result"
    }
   ],
   "source": [
    "# api response structure\n",
    "\"\"\"[\n",
    "  [\n",
    "    1499040000000,      // Kline open time\n",
    "    \"0.01634790\",       // Open price\n",
    "    \"0.80000000\",       // High price\n",
    "    \"0.01575800\",       // Low price\n",
    "    \"0.01577100\",       // Close price\n",
    "    \"148976.11427815\",  // Volume\n",
    "    1499644799999,      // Kline Close time\n",
    "    \"2434.19055334\",    // Quote asset volume\n",
    "    308,                // Number of trades\n",
    "    \"1756.87402397\",    // Taker buy base asset volume\n",
    "    \"28.46694368\",      // Taker buy quote asset volume\n",
    "    \"0\"                 // Unused field, ignore.\n",
    "  ]\n",
    "]\"\"\""
   ]
  },
  {
   "cell_type": "code",
   "execution_count": 50,
   "id": "2dd2be5c-788d-4acf-b930-d64a93e3ba2f",
   "metadata": {
    "scrolled": true
   },
   "outputs": [],
   "source": [
    "columns = [\n",
    "    \"Kline open time\",\n",
    "    \"Open Price\",\n",
    "    \"High price\",\n",
    "    \"Low price\",\n",
    "    \"Close Price\",\n",
    "    \"Volume\",\n",
    "    \"Kline Close time\",\n",
    "    \"Quote asset volume\",\n",
    "    \"Number of trades\",\n",
    "    \"Taker buy base asset volume\",\n",
    "    \"Taker buy quote asset volume\",\n",
    "    \"Ignore\",\n",
    "]"
   ]
  },
  {
   "cell_type": "code",
   "execution_count": 51,
   "id": "f13a8174-7d5c-4395-97a1-999b9ec62cbd",
   "metadata": {},
   "outputs": [],
   "source": [
    "dataframe = spark.createDataFrame(klines, columns)"
   ]
  },
  {
   "cell_type": "code",
   "execution_count": 52,
   "id": "91cf649f-125e-4690-9617-6ba3f82ef824",
   "metadata": {},
   "outputs": [
    {
     "name": "stderr",
     "output_type": "stream",
     "text": [
      "1:80: E501 line too long (89 > 79 characters)\n",
      "2:44: E231 missing whitespace after ','\n",
      "3:26: E231 missing whitespace after ','\n",
      "3:39: E231 missing whitespace after ','\n",
      "3:53: E231 missing whitespace after ','\n"
     ]
    }
   ],
   "source": [
    "df = dataframe.withColumn(\"Kline open time\", to_timestamp(col(\"Kline open time\") / 1000))\n",
    "df = df.withColumnRenamed(\"Kline open time\",\"datetime\")\n",
    "df = df.select('datetime','Open Price','Close Price','Volume')"
   ]
  },
  {
   "cell_type": "code",
   "execution_count": 53,
   "id": "203d5938-75c5-4bf2-8bc2-026a8e474088",
   "metadata": {},
   "outputs": [
    {
     "name": "stdout",
     "output_type": "stream",
     "text": [
      "+-------------------+--------------+--------------+----------------+\n",
      "|           datetime|    Open Price|   Close Price|          Volume|\n",
      "+-------------------+--------------+--------------+----------------+\n",
      "|2023-01-01 00:00:00|16541.77000000|23125.13000000|7977028.87801000|\n",
      "|2023-02-01 00:00:00|23125.13000000|23141.57000000|8642691.27165000|\n",
      "|2023-03-01 00:00:00|23141.57000000|28465.36000000|9516189.35846000|\n",
      "|2023-04-01 01:00:00|28465.36000000|29233.21000000|1626745.55850000|\n",
      "|2023-05-01 01:00:00|29233.20000000|27210.35000000|1302000.49221000|\n",
      "|2023-06-01 01:00:00|27210.36000000|30472.00000000|1387207.48275000|\n",
      "|2023-07-01 01:00:00|30471.99000000|29232.25000000| 925773.81731000|\n",
      "|2023-08-01 01:00:00|29232.26000000|25940.78000000|1025866.55023000|\n",
      "|2023-09-01 01:00:00|25940.77000000|26962.56000000| 809329.04893000|\n",
      "|2023-10-01 01:00:00|26962.57000000|34639.77000000|1141403.67990000|\n",
      "|2023-11-01 00:00:00|34639.78000000|37723.96000000|1055690.59638000|\n",
      "|2023-12-01 00:00:00|37723.97000000|42283.58000000|1195409.97600000|\n",
      "+-------------------+--------------+--------------+----------------+\n",
      "\n"
     ]
    }
   ],
   "source": [
    "df.show()"
   ]
  },
  {
   "cell_type": "code",
   "execution_count": null,
   "id": "c4d3dc25-6d3a-4cef-86ad-ae61ff7f756b",
   "metadata": {},
   "outputs": [],
   "source": []
  }
 ],
 "metadata": {
  "kernelspec": {
   "display_name": "Python 3 (ipykernel)",
   "language": "python",
   "name": "python3"
  },
  "language_info": {
   "codemirror_mode": {
    "name": "ipython",
    "version": 3
   },
   "file_extension": ".py",
   "mimetype": "text/x-python",
   "name": "python",
   "nbconvert_exporter": "python",
   "pygments_lexer": "ipython3",
   "version": "3.9.1"
  }
 },
 "nbformat": 4,
 "nbformat_minor": 5
}
