{
 "cells": [
  {
   "cell_type": "code",
   "execution_count": 1,
   "id": "a2610a2d-8b5a-4e7a-ae7b-a53bea4fca9f",
   "metadata": {},
   "outputs": [],
   "source": [
    "%load_ext pycodestyle_magic\n",
    "%pycodestyle_on\n",
    "# %pycodestyle_off -to turn it off"
   ]
  },
  {
   "cell_type": "code",
   "execution_count": 2,
   "id": "176ccd7b-e558-4275-a61f-9ea5b537ff64",
   "metadata": {},
   "outputs": [
    {
     "data": {
      "text/plain": [
       "True"
      ]
     },
     "execution_count": 2,
     "metadata": {},
     "output_type": "execute_result"
    }
   ],
   "source": [
    "# import all libraries\n",
    "from minio import Minio\n",
    "from pyspark import SparkContext\n",
    "from pyspark.sql import SparkSession\n",
    "from pyspark.sql.functions import col, to_timestamp, month, year\n",
    "import requests\n",
    "import json\n",
    "import pandas as pd\n",
    "from binance import Client\n",
    "from datetime import datetime, date\n",
    "import os\n",
    "from dotenv import load_dotenv, dotenv_values\n",
    "from binance.helpers import date_to_milliseconds, interval_to_milliseconds\n",
    "from dateutil.relativedelta import relativedelta\n",
    "from dateutil.parser import parse\n",
    "load_dotenv()"
   ]
  },
  {
   "cell_type": "code",
   "execution_count": 3,
   "id": "0d85afa7-52c7-4ca8-a5a1-94680a141540",
   "metadata": {},
   "outputs": [],
   "source": [
    "API_KEY = os.getenv(\"API_KEY\")\n",
    "SECRET_KEY = os.getenv(\"SECRET_KEY\")\n",
    "MINIO_USER = os.getenv(\"MINIO_ROOT_USER\")\n",
    "MINIO_PASSWORD = os.getenv(\"MINIO_ROOT_PASSWORD\")\n",
    "client_binance = Client(API_KEY, SECRET_KEY)"
   ]
  },
  {
   "cell_type": "code",
   "execution_count": 4,
   "id": "35a6ee15-b03e-4b10-8ba7-6f86fff5774f",
   "metadata": {
    "scrolled": true
   },
   "outputs": [
    {
     "name": "stderr",
     "output_type": "stream",
     "text": [
      "Setting default log level to \"WARN\".\n",
      "To adjust logging level use sc.setLogLevel(newLevel). For SparkR, use setLogLevel(newLevel).\n",
      "25/03/05 22:34:16 WARN NativeCodeLoader: Unable to load native-hadoop library for your platform... using builtin-java classes where applicable\n"
     ]
    },
    {
     "data": {
      "text/plain": [
       "'\\nsc._jsc.hadoopConfiguration().set(\"fs.s3a.path.style.access\", \"true\")\\nsc._jsc.hadoopConfiguration().set(\"fs.s3a.connection.ssl.enabled\", \"false\")\\nsc._jsc.hadoopConfiguration().set(\"fs.s3a.impl\", \"org.apache.hadoop.fs.s3a.S3AFileSystem\")\\nsc._jsc.hadoopConfiguration().set(\"fs.s3a.connection.ssl.enabled\", \"false\")'"
      ]
     },
     "execution_count": 4,
     "metadata": {},
     "output_type": "execute_result"
    },
    {
     "name": "stderr",
     "output_type": "stream",
     "text": [
      "6:67: E261 at least two spaces before inline comment\n",
      "6:67: E262 inline comment should start with '# '\n",
      "6:80: E501 line too long (101 > 79 characters)\n",
      "6:102: W291 trailing whitespace\n",
      "12:80: E501 line too long (80 > 79 characters)\n",
      "19:80: E501 line too long (90 > 79 characters)\n",
      "21:1: W391 blank line at end of file\n"
     ]
    }
   ],
   "source": [
    "spark = SparkSession.builder \\\n",
    "    .appName(\"CryptoETL\") \\\n",
    "    .getOrCreate()\n",
    "# Get the SparkContext from the SparkSession\n",
    "sc = spark.sparkContext\n",
    "sc._jsc.hadoopConfiguration().set(\"fs.s3a.access.key\", MINIO_USER)#turn into access key in the future \n",
    "sc._jsc.hadoopConfiguration().set(\"fs.s3a.secret.key\", MINIO_PASSWORD)\n",
    "sc._jsc.hadoopConfiguration().set(\"fs.s3a.endpoint\", \"http://localhost:9000\")\n",
    "sc._jsc.hadoopConfiguration().set(\"fs.s3a.connection.ssl.enabled\", \"true\")\n",
    "sc._jsc.hadoopConfiguration().set(\"fs.s3a.path.style.access\", \"true\")\n",
    "sc._jsc.hadoopConfiguration().set(\"fs.s3a.attempts.maximum\", \"1\")\n",
    "sc._jsc.hadoopConfiguration().set(\"fs.s3a.connection.establish.timeout\", \"5000\")\n",
    "sc._jsc.hadoopConfiguration().set(\"fs.s3a.connection.timeout\", \"10000\")\n",
    "\n",
    "\n",
    "'''\n",
    "sc._jsc.hadoopConfiguration().set(\"fs.s3a.path.style.access\", \"true\")\n",
    "sc._jsc.hadoopConfiguration().set(\"fs.s3a.connection.ssl.enabled\", \"false\")\n",
    "sc._jsc.hadoopConfiguration().set(\"fs.s3a.impl\", \"org.apache.hadoop.fs.s3a.S3AFileSystem\")\n",
    "sc._jsc.hadoopConfiguration().set(\"fs.s3a.connection.ssl.enabled\", \"false\")'''\n"
   ]
  },
  {
   "cell_type": "code",
   "execution_count": 5,
   "id": "dba7af90-e48f-4df7-9d26-bf3d55fb6b52",
   "metadata": {},
   "outputs": [
    {
     "name": "stderr",
     "output_type": "stream",
     "text": [
      "2:1: E265 block comment should start with '# '\n",
      "3:1: E265 block comment should start with '# '\n"
     ]
    }
   ],
   "source": [
    "# tickers = client.get_all_tickers()\n",
    "#client_binance.get_exchange_info() #has rate limit info\n",
    "#client_binance.response.headers #has info on current usage"
   ]
  },
  {
   "cell_type": "code",
   "execution_count": 6,
   "id": "43221467-2c02-43e1-9e97-1b05e89fcc52",
   "metadata": {},
   "outputs": [],
   "source": [
    "# start_datetime = datetime.strptime(\"01-01-2023\", '%d-%m-%Y')\n",
    "# start_date = start_datetime.strftime(\"%Y-%m-%dT%H:%M:%SZ\")\n",
    "\n",
    "# end_datetime = datetime.strptime(\"01-01-2024\", '%d-%m-%Y')\n",
    "# end_date_date = end_datetime.strftime(\"%Y-%m-%dT%H:%M:%SZ\")"
   ]
  },
  {
   "cell_type": "code",
   "execution_count": 7,
   "id": "86d304b3-3880-4ed4-bf04-e68514faaaef",
   "metadata": {},
   "outputs": [
    {
     "name": "stderr",
     "output_type": "stream",
     "text": [
      "1:21: E231 missing whitespace after ','\n",
      "1:31: E231 missing whitespace after ','\n",
      "1:41: E231 missing whitespace after ','\n",
      "1:51: E231 missing whitespace after ','\n"
     ]
    }
   ],
   "source": [
    "cryptos = ['BTCUSDT','ETHUSDT','LTCUSDT','BNBUSDT','DOGEUSDT']"
   ]
  },
  {
   "cell_type": "code",
   "execution_count": 8,
   "id": "a39c63e2-2521-4f36-969e-b0bfd8217a00",
   "metadata": {},
   "outputs": [
    {
     "ename": "NameError",
     "evalue": "name 'symbol' is not defined",
     "output_type": "error",
     "traceback": [
      "\u001b[0;31m---------------------------------------------------------------------------\u001b[0m",
      "\u001b[0;31mNameError\u001b[0m                                 Traceback (most recent call last)",
      "Cell \u001b[0;32mIn[8], line 2\u001b[0m\n\u001b[1;32m      1\u001b[0m klines \u001b[38;5;241m=\u001b[39m client_binance\u001b[38;5;241m.\u001b[39mget_historical_klines(\n\u001b[0;32m----> 2\u001b[0m     symbol\u001b[38;5;241m=\u001b[39m\u001b[43msymbol\u001b[49m, interval\u001b[38;5;241m=\u001b[39minterval, start_str\u001b[38;5;241m=\u001b[39mstart_date, end_str\u001b[38;5;241m=\u001b[39mend_date, limit\u001b[38;5;241m=\u001b[39m\u001b[38;5;241m1000\u001b[39m \n\u001b[1;32m      3\u001b[0m )\n",
      "\u001b[0;31mNameError\u001b[0m: name 'symbol' is not defined"
     ]
    },
    {
     "name": "stderr",
     "output_type": "stream",
     "text": [
      "2:80: E501 line too long (88 > 79 characters)\n",
      "2:89: W291 trailing whitespace\n"
     ]
    }
   ],
   "source": [
    "klines = client_binance.get_historical_klines(\n",
    "    symbol=symbol, interval=interval, start_str=start_date, end_str=end_date, limit=1000 \n",
    ")"
   ]
  },
  {
   "cell_type": "code",
   "execution_count": null,
   "id": "e9c56945-b2b3-45c8-96ed-f88b8059d041",
   "metadata": {},
   "outputs": [],
   "source": [
    "client_binance.response.headers['x-mbx-used-weight']"
   ]
  },
  {
   "cell_type": "code",
   "execution_count": null,
   "id": "1de3fbe8-3074-4b5c-888e-0f534fe283a9",
   "metadata": {},
   "outputs": [],
   "source": [
    "client_binance.get_exchange_info()"
   ]
  },
  {
   "cell_type": "code",
   "execution_count": null,
   "id": "14fe7f8b-c5c8-4978-89df-41ddbfb576e2",
   "metadata": {},
   "outputs": [],
   "source": [
    "start_date = \"01-01-2019\"\n",
    "end_date = \"31-12-2024\"\n",
    "symbol = \"BTCUSDT\"\n",
    "interval = \"1M\"\n"
   ]
  },
  {
   "cell_type": "code",
   "execution_count": null,
   "id": "4393b31e-4565-42a9-b29f-4302fb8066b4",
   "metadata": {
    "scrolled": true
   },
   "outputs": [],
   "source": [
    "#create a loop where start date,end date and output data are defined\n",
    "#in loop says while end date is greater than start date, keep going\n",
    "#check last value in output data, add last timeframe and use it as new start date\n",
    "#if client_binance.response.headers['x-mbx-used-weight'] == 5000: sleep 30\n",
    "#print used weight response head to monitor\n",
    "#try and except that shows api error codes\n",
    "#start_datetime = datetime.strptime(start_date, '%d-%m-%Y')\n",
    "#end_datetime = datetime.strptime(end_date, '%d-%m-%Y')\n",
    "output = []\n",
    "while end_date > start_date:\n",
    "    data = client_binance.get_historical_klines(\n",
    "    symbol=symbol, interval=interval, start_str=start_date, end_str=end_date, limit=1000 \n",
    "    )\n",
    "    output +=data\n",
    "    #timeframe = interval_to_milliseconds(interval)\n",
    "    #start_datetime = datetime.strptime(start_date, '%d-%m-%Y')\n",
    "    \n",
    "    start_datetime = parse(start_date)\n",
    "    start_datetime =  start_datetime + relativedelta(months=1)\n",
    "    start_date = str(start_datetime)\n",
    "    print(output)\n",
    "    print(start_date)\n",
    "    print(client_binance.response.headers['x-mbx-used-weight'])\n",
    "    print(data[-1][0])\n",
    "    break"
   ]
  },
  {
   "cell_type": "code",
   "execution_count": null,
   "id": "deb2ddab-286b-4606-84d6-0db6a02234cc",
   "metadata": {
    "scrolled": true
   },
   "outputs": [],
   "source": [
    "# api response structure\n",
    "\"\"\"[\n",
    "  [\n",
    "    1499040000000,      // Kline open time\n",
    "    \"0.01634790\",       // Open price\n",
    "    \"0.80000000\",       // High price\n",
    "    \"0.01575800\",       // Low price\n",
    "    \"0.01577100\",       // Close price\n",
    "    \"148976.11427815\",  // Volume\n",
    "    1499644799999,      // Kline Close time\n",
    "    \"2434.19055334\",    // Quote asset volume\n",
    "    308,                // Number of trades\n",
    "    \"1756.87402397\",    // Taker buy base asset volume\n",
    "    \"28.46694368\",      // Taker buy quote asset volume\n",
    "    \"0\"                 // Unused field, ignore.\n",
    "  ]\n",
    "]\"\"\""
   ]
  },
  {
   "cell_type": "code",
   "execution_count": null,
   "id": "2dd2be5c-788d-4acf-b930-d64a93e3ba2f",
   "metadata": {
    "scrolled": true
   },
   "outputs": [],
   "source": [
    "columns = [\n",
    "    \"Kline open time\",\n",
    "    \"Open Price\",\n",
    "    \"High price\",\n",
    "    \"Low price\",\n",
    "    \"Close Price\",\n",
    "    \"Volume\",\n",
    "    \"Kline Close time\",\n",
    "    \"Quote asset volume\",\n",
    "    \"Number of trades\",\n",
    "    \"Taker buy base asset volume\",\n",
    "    \"Taker buy quote asset volume\",\n",
    "    \"Ignore\",\n",
    "]"
   ]
  },
  {
   "cell_type": "code",
   "execution_count": null,
   "id": "f13a8174-7d5c-4395-97a1-999b9ec62cbd",
   "metadata": {},
   "outputs": [],
   "source": [
    "dataframe = spark.createDataFrame(klines, columns)"
   ]
  },
  {
   "cell_type": "code",
   "execution_count": null,
   "id": "91cf649f-125e-4690-9617-6ba3f82ef824",
   "metadata": {},
   "outputs": [],
   "source": [
    "df = dataframe.withColumn(\"Kline open time\", to_timestamp(col(\"Kline open time\") / 1000))\n",
    "df = df.withColumnRenamed(\"Kline open time\",\"datetime\")\n",
    "df = df.select('datetime','Open Price','Close Price','Volume')"
   ]
  },
  {
   "cell_type": "code",
   "execution_count": null,
   "id": "203d5938-75c5-4bf2-8bc2-026a8e474088",
   "metadata": {
    "scrolled": true
   },
   "outputs": [],
   "source": [
    "df.show()"
   ]
  },
  {
   "cell_type": "code",
   "execution_count": null,
   "id": "53d19176-73c4-4e04-bec1-3425b866f5e3",
   "metadata": {},
   "outputs": [],
   "source": [
    "from pyspark.sql.functions import year\n",
    "\n",
    "df_2022 = df.filter(year(df.datetime) == 2024)"
   ]
  },
  {
   "cell_type": "code",
   "execution_count": null,
   "id": "5861db95-f24a-4a48-9d13-3cb1c8849ebb",
   "metadata": {},
   "outputs": [],
   "source": [
    "df_2022.show()"
   ]
  },
  {
   "cell_type": "code",
   "execution_count": null,
   "id": "4a2af22e-e5a6-4f64-af8f-e226407fa19e",
   "metadata": {},
   "outputs": [],
   "source": [
    "client_minio = Minio(\n",
    "    \"localhost:9000\",  # Make sure you're using port 9000 for the S3 API\n",
    "    access_key = MINIO_USER,\n",
    "    secret_key = MINIO_PASSWORD,\n",
    "    secure=False  # Disable SSL if you're not using SSL certificates\n",
    ")\n"
   ]
  },
  {
   "cell_type": "code",
   "execution_count": null,
   "id": "9bb19f90-fe3a-41cf-9d29-f4aa02cda1dd",
   "metadata": {},
   "outputs": [],
   "source": [
    "buckets = client_minio.list_buckets()"
   ]
  },
  {
   "cell_type": "code",
   "execution_count": null,
   "id": "c78702b5-e849-457c-ab35-a3d15605df5e",
   "metadata": {},
   "outputs": [],
   "source": [
    "#df.write.csv('test',header = True)"
   ]
  },
  {
   "cell_type": "code",
   "execution_count": null,
   "id": "85ef5e4b-f460-4a8a-82e3-eb3978639728",
   "metadata": {},
   "outputs": [],
   "source": [
    "#df.coalesce(1).write.csv(\"csv\", header=True)\n",
    "'''\n",
    "destination_file = 'csv'\n",
    "source_file = './csv/part-00000-403543db-3e05-4013-a90b-934dff0f9694-c000.csv' #just an object not technically a file\n",
    "bucket_name = 'bucket1'\n",
    "client_minio.fput_object(\n",
    "        bucket_name, destination_file, source_file,\n",
    "    )\n",
    "'''"
   ]
  },
  {
   "cell_type": "code",
   "execution_count": null,
   "id": "ed383bc3-8036-4874-9a98-979b12bd6890",
   "metadata": {},
   "outputs": [],
   "source": [
    "bucket_name = 'bucket1'\n",
    "\n",
    "\n",
    "df = df.withColumn(\"year\", year(df[\"datetime\"])) \\\n",
    "       .withColumn(\"month\", month(df[\"datetime\"]))\n",
    "df.write.mode(\"append\") \\\n",
    "    .partitionBy(\"year\", \"month\") \\\n",
    "    .parquet(f\"s3a://{bucket_name}/BTC/Daily\")"
   ]
  }
 ],
 "metadata": {
  "kernelspec": {
   "display_name": "Python 3 (ipykernel)",
   "language": "python",
   "name": "python3"
  },
  "language_info": {
   "codemirror_mode": {
    "name": "ipython",
    "version": 3
   },
   "file_extension": ".py",
   "mimetype": "text/x-python",
   "name": "python",
   "nbconvert_exporter": "python",
   "pygments_lexer": "ipython3",
   "version": "3.9.1"
  }
 },
 "nbformat": 4,
 "nbformat_minor": 5
}
