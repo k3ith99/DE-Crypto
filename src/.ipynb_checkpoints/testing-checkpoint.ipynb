{
 "cells": [
  {
   "cell_type": "code",
   "execution_count": 9,
   "id": "a2610a2d-8b5a-4e7a-ae7b-a53bea4fca9f",
   "metadata": {},
   "outputs": [],
   "source": [
    "%load_ext pycodestyle_magic\n",
    "%pycodestyle_on\n",
    "#%pycodestyle_off -to turn it off"
   ]
  },
  {
   "cell_type": "code",
   "execution_count": 10,
   "id": "176ccd7b-e558-4275-a61f-9ea5b537ff64",
   "metadata": {},
   "outputs": [
    {
     "ename": "NameError",
     "evalue": "name 'x' is not defined",
     "output_type": "error",
     "traceback": [
      "\u001b[0;31m---------------------------------------------------------------------------\u001b[0m",
      "\u001b[0;31mNameError\u001b[0m                                 Traceback (most recent call last)",
      "Cell \u001b[0;32mIn[10], line 1\u001b[0m\n\u001b[0;32m----> 1\u001b[0m a \u001b[38;5;241m=\u001b[39m   \u001b[43mx\u001b[49m\n",
      "\u001b[0;31mNameError\u001b[0m: name 'x' is not defined"
     ]
    },
    {
     "name": "stderr",
     "output_type": "stream",
     "text": [
      "1:4: E222 multiple spaces after operator\n"
     ]
    }
   ],
   "source": [
    "a =   x"
   ]
  },
  {
   "cell_type": "code",
   "execution_count": 1,
   "id": "ddbb3812-c3d5-41dc-bfd9-efcc2ff37cbc",
   "metadata": {},
   "outputs": [
    {
     "ename": "DuplicateDatabase",
     "evalue": "database \"crypto\" already exists\n",
     "output_type": "error",
     "traceback": [
      "\u001b[0;31m---------------------------------------------------------------------------\u001b[0m",
      "\u001b[0;31mDuplicateDatabase\u001b[0m                         Traceback (most recent call last)",
      "Cell \u001b[0;32mIn[1], line 20\u001b[0m\n\u001b[1;32m     17\u001b[0m sql \u001b[38;5;241m=\u001b[39m \u001b[38;5;124m'''\u001b[39m\u001b[38;5;124m CREATE DATABASE crypto \u001b[39m\u001b[38;5;124m'''\u001b[39m;\n\u001b[1;32m     19\u001b[0m \u001b[38;5;66;03m# executing above query\u001b[39;00m\n\u001b[0;32m---> 20\u001b[0m \u001b[43mcursor\u001b[49m\u001b[38;5;241;43m.\u001b[39;49m\u001b[43mexecute\u001b[49m\u001b[43m(\u001b[49m\u001b[43msql\u001b[49m\u001b[43m)\u001b[49m\n\u001b[1;32m     21\u001b[0m \u001b[38;5;28mprint\u001b[39m(\u001b[38;5;124m\"\u001b[39m\u001b[38;5;124mDatabase has been created successfully !!\u001b[39m\u001b[38;5;124m\"\u001b[39m);\n\u001b[1;32m     23\u001b[0m \u001b[38;5;66;03m# Closing the connection\u001b[39;00m\n",
      "\u001b[0;31mDuplicateDatabase\u001b[0m: database \"crypto\" already exists\n"
     ]
    }
   ],
   "source": [
    "import psycopg2\n",
    "\n",
    "# connection establishment\n",
    "conn = psycopg2.connect(\n",
    "database=\"postgres\",\n",
    "\tuser='postgres',\n",
    "\tpassword='postgres',\n",
    "\thost='localhost',\n",
    "\tport= '5432'\n",
    ")\n",
    "conn.autocommit = True\n",
    " \n",
    "# Creating a cursor object\n",
    "cursor = conn.cursor()\n",
    " \n",
    "# query to create a database \n",
    "sql = ''' CREATE DATABASE crypto ''';\n",
    " \n",
    "# executing above query\n",
    "cursor.execute(sql)\n",
    "print(\"Database has been created successfully !!\");\n",
    " \n",
    "# Closing the connection\n",
    "conn.close()"
   ]
  },
  {
   "cell_type": "code",
   "execution_count": 15,
   "id": "166a6756-7ae7-4699-afd7-c82991a3f269",
   "metadata": {},
   "outputs": [
    {
     "ename": "DuplicateTable",
     "evalue": "relation \"crypto\" already exists\n",
     "output_type": "error",
     "traceback": [
      "\u001b[0;31m---------------------------------------------------------------------------\u001b[0m",
      "\u001b[0;31mDuplicateTable\u001b[0m                            Traceback (most recent call last)",
      "Cell \u001b[0;32mIn[15], line 44\u001b[0m\n\u001b[1;32m     14\u001b[0m sql \u001b[38;5;241m=\u001b[39m \u001b[38;5;124m'''\u001b[39m\u001b[38;5;124m \u001b[39m\n\u001b[1;32m     15\u001b[0m \u001b[38;5;124mCREATE TABLE Crypto (\u001b[39m\n\u001b[1;32m     16\u001b[0m \u001b[38;5;124m    id INT NOT NULL PRIMARY KEY,\u001b[39m\n\u001b[0;32m   (...)\u001b[0m\n\u001b[1;32m     40\u001b[0m \n\u001b[1;32m     41\u001b[0m \u001b[38;5;124m'''\u001b[39m;\n\u001b[1;32m     43\u001b[0m \u001b[38;5;66;03m# executing above query\u001b[39;00m\n\u001b[0;32m---> 44\u001b[0m \u001b[43mcursor\u001b[49m\u001b[38;5;241;43m.\u001b[39;49m\u001b[43mexecute\u001b[49m\u001b[43m(\u001b[49m\u001b[43msql\u001b[49m\u001b[43m)\u001b[49m\n\u001b[1;32m     45\u001b[0m \u001b[38;5;28mprint\u001b[39m(\u001b[38;5;124m\"\u001b[39m\u001b[38;5;124mDatabase has been created successfully !!\u001b[39m\u001b[38;5;124m\"\u001b[39m);\n\u001b[1;32m     47\u001b[0m \u001b[38;5;66;03m# Closing the connection\u001b[39;00m\n",
      "\u001b[0;31mDuplicateTable\u001b[0m: relation \"crypto\" already exists\n"
     ]
    },
    {
     "name": "stderr",
     "output_type": "stream",
     "text": [
      "2:1: E122 continuation line missing indentation or outdented\n",
      "3:1: W191 indentation contains tabs\n",
      "4:1: W191 indentation contains tabs\n",
      "5:1: W191 indentation contains tabs\n",
      "6:1: W191 indentation contains tabs\n",
      "6:7: E251 unexpected spaces around keyword / parameter equals\n",
      "13:29: W291 trailing whitespace\n",
      "14:10: W291 trailing whitespace\n",
      "16:1: E101 indentation contains mixed spaces and tabs\n",
      "41:4: E703 statement ends with a semicolon\n",
      "45:51: E703 statement ends with a semicolon\n"
     ]
    }
   ],
   "source": [
    "conn = psycopg2.connect(\n",
    "database=\"postgres\",\n",
    "\tuser='postgres',\n",
    "\tpassword='postgres',\n",
    "\thost='localhost',\n",
    "\tport= '5432'\n",
    ")\n",
    "conn.autocommit = True\n",
    "\n",
    "# Creating a cursor object\n",
    "cursor = conn.cursor()\n",
    "\n",
    "# query to create a database \n",
    "sql = ''' \n",
    "CREATE TABLE Crypto (\n",
    "    id INT NOT NULL PRIMARY KEY,\n",
    "    name VARCHAR(20) NOT NULL,\n",
    "    ticker VARCHAR(5) NOT NULL\n",
    ") ;\n",
    "CREATE TABLE Time (\n",
    "    id INT NOT NULL PRIMARY KEY,\n",
    "    crypto_id INT NOT NULL references Crypto(id),\n",
    "    timestamp TIMESTAMP,\n",
    "    year INT,\n",
    "    month INT,\n",
    "    day INT,\n",
    "    hour INT,\n",
    "    minute INT,\n",
    "    second INT\n",
    ");\n",
    "CREATE TABLE Price (\n",
    "    id INT NOT NULL PRIMARY KEY,\n",
    "    crypto_id INT NOT NULL references Crypto(id),\n",
    "    time_id INT NOT NULL references Time(id),\n",
    "    currency VARCHAR(20),\n",
    "    open DECIMAL,\n",
    "    close DECIMAL,\n",
    "    volume DECIMAL\n",
    ");\n",
    "\n",
    "''';\n",
    "\n",
    "# executing above query\n",
    "cursor.execute(sql)\n",
    "print(\"Database has been created successfully !!\");\n",
    "\n",
    "# Closing the connection\n",
    "conn.close()"
   ]
  },
  {
   "cell_type": "code",
   "execution_count": null,
   "id": "be97e90a-d6ab-4322-b94a-38c9b0143c5c",
   "metadata": {},
   "outputs": [],
   "source": []
  }
 ],
 "metadata": {
  "kernelspec": {
   "display_name": "Python 3 (ipykernel)",
   "language": "python",
   "name": "python3"
  },
  "language_info": {
   "codemirror_mode": {
    "name": "ipython",
    "version": 3
   },
   "file_extension": ".py",
   "mimetype": "text/x-python",
   "name": "python",
   "nbconvert_exporter": "python",
   "pygments_lexer": "ipython3",
   "version": "3.9.1"
  }
 },
 "nbformat": 4,
 "nbformat_minor": 5
}
