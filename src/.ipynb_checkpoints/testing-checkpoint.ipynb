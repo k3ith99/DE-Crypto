{
 "cells": [
  {
   "cell_type": "code",
   "execution_count": 1,
   "id": "a2610a2d-8b5a-4e7a-ae7b-a53bea4fca9f",
   "metadata": {},
   "outputs": [],
   "source": [
    "%load_ext pycodestyle_magic\n",
    "%pycodestyle_on\n",
    "# %pycodestyle_off -to turn it off"
   ]
  },
  {
   "cell_type": "code",
   "execution_count": 4,
   "id": "176ccd7b-e558-4275-a61f-9ea5b537ff64",
   "metadata": {},
   "outputs": [
    {
     "data": {
      "text/plain": [
       "True"
      ]
     },
     "execution_count": 4,
     "metadata": {},
     "output_type": "execute_result"
    },
    {
     "name": "stderr",
     "output_type": "stream",
     "text": [
      "5:80: E501 line too long (87 > 79 characters)\n"
     ]
    }
   ],
   "source": [
    "from minio import Minio\n",
    "from pyspark import SparkContext\n",
    "from pyspark.sql import SparkSession\n",
    "from pyspark.sql.functions import col, to_timestamp, month, year\n",
    "from pyspark.sql.types import StructType, StructField, IntegerType, FloatType, LongType\n",
    "import requests\n",
    "import json\n",
    "import pandas as pd\n",
    "from binance import Client\n",
    "from datetime import datetime, date\n",
    "import os\n",
    "from dotenv import load_dotenv, dotenv_values\n",
    "from binance.helpers import date_to_milliseconds, interval_to_milliseconds\n",
    "from binance.exceptions import BinanceRequestException, BinanceAPIException\n",
    "from dateutil.relativedelta import relativedelta\n",
    "from dateutil.parser import parse\n",
    "import time\n",
    "import logging\n",
    "load_dotenv()"
   ]
  },
  {
   "cell_type": "code",
   "execution_count": 5,
   "id": "0d85afa7-52c7-4ca8-a5a1-94680a141540",
   "metadata": {},
   "outputs": [],
   "source": [
    "API_KEY = os.getenv(\"API_KEY\")\n",
    "SECRET_KEY = os.getenv(\"SECRET_KEY\")\n",
    "MINIO_USER = os.getenv(\"MINIO_ROOT_USER\")\n",
    "MINIO_PASSWORD = os.getenv(\"MINIO_ROOT_PASSWORD\")\n",
    "client_binance = Client(API_KEY, SECRET_KEY)"
   ]
  },
  {
   "cell_type": "code",
   "execution_count": 28,
   "id": "443a3384-b5c7-4824-9bdd-cd0093557942",
   "metadata": {},
   "outputs": [
    {
     "name": "stderr",
     "output_type": "stream",
     "text": [
      "Setting default log level to \"WARN\".\n",
      "To adjust logging level use sc.setLogLevel(newLevel). For SparkR, use setLogLevel(newLevel).\n",
      "25/04/16 15:25:08 WARN NativeCodeLoader: Unable to load native-hadoop library for your platform... using builtin-java classes where applicable\n",
      "6:67: E261 at least two spaces before inline comment\n",
      "6:67: E262 inline comment should start with '# '\n",
      "6:80: E501 line too long (101 > 79 characters)\n",
      "6:102: W291 trailing whitespace\n",
      "12:80: E501 line too long (80 > 79 characters)\n"
     ]
    }
   ],
   "source": [
    "spark = SparkSession.builder \\\n",
    "    .appName(\"CryptoETL\") \\\n",
    "    .getOrCreate()\n",
    "# Get the SparkContext from the SparkSession\n",
    "sc = spark.sparkContext\n",
    "sc._jsc.hadoopConfiguration().set(\"fs.s3a.access.key\", MINIO_USER)#turn into access key in the future \n",
    "sc._jsc.hadoopConfiguration().set(\"fs.s3a.secret.key\", MINIO_PASSWORD)\n",
    "sc._jsc.hadoopConfiguration().set(\"fs.s3a.endpoint\", \"http://minio:9000\")\n",
    "sc._jsc.hadoopConfiguration().set(\"fs.s3a.connection.ssl.enabled\", \"true\")\n",
    "sc._jsc.hadoopConfiguration().set(\"fs.s3a.path.style.access\", \"true\")\n",
    "sc._jsc.hadoopConfiguration().set(\"fs.s3a.attempts.maximum\", \"1\")\n",
    "sc._jsc.hadoopConfiguration().set(\"fs.s3a.connection.establish.timeout\", \"5000\")\n",
    "sc._jsc.hadoopConfiguration().set(\"fs.s3a.connection.timeout\", \"10000\")"
   ]
  },
  {
   "cell_type": "code",
   "execution_count": 6,
   "id": "e6a0ec56-8517-42d9-ad4b-6aa969df0649",
   "metadata": {},
   "outputs": [
    {
     "name": "stderr",
     "output_type": "stream",
     "text": [
      "1:1: E265 block comment should start with '# '\n",
      "2:1: E265 block comment should start with '# '\n",
      "3:1: E265 block comment should start with '# '\n",
      "4:1: E265 block comment should start with '# '\n",
      "5:1: E265 block comment should start with '# '\n",
      "6:1: E265 block comment should start with '# '\n"
     ]
    }
   ],
   "source": [
    "#read data for 1 crypto\n",
    "#schema check/validation\n",
    "#implement transformations\n",
    "#add unique id for crypto,price,time\n",
    "#split into 3 tables\n",
    "#upload to postgres db"
   ]
  },
  {
   "cell_type": "code",
   "execution_count": 7,
   "id": "7c43d2f8-5234-4968-83fb-0b2cd57e11ce",
   "metadata": {},
   "outputs": [
    {
     "name": "stderr",
     "output_type": "stream",
     "text": [
      "2:31: E261 at least two spaces before inline comment\n",
      "2:32: E262 inline comment should start with '# '\n",
      "6:1: W391 blank line at end of file\n"
     ]
    }
   ],
   "source": [
    "logger = logging.getLogger(__name__)\n",
    "logger.setLevel(logging.DEBUG) #set to debug to capture all levels\n",
    "if logger.hasHandlers():\n",
    "    logger.handlers.clear()\n",
    "logger.propagate = False\n"
   ]
  },
  {
   "cell_type": "code",
   "execution_count": 8,
   "id": "cfb41969-b14c-446a-a285-bad83f6241ec",
   "metadata": {},
   "outputs": [],
   "source": [
    "handler = logging.StreamHandler()\n",
    "handler.setLevel(logging.DEBUG)\n",
    "logger.addHandler(handler)"
   ]
  },
  {
   "cell_type": "code",
   "execution_count": 52,
   "id": "3c314b1a-efc6-48ad-9e52-4e33a35f7be9",
   "metadata": {
    "scrolled": true
   },
   "outputs": [
    {
     "name": "stderr",
     "output_type": "stream",
     "text": [
      "1:21: E231 missing whitespace after ','\n",
      "1:31: E231 missing whitespace after ','\n",
      "1:41: E231 missing whitespace after ','\n",
      "1:51: E231 missing whitespace after ','\n",
      "3:1: E302 expected 2 blank lines, found 1\n",
      "3:26: E231 missing whitespace after ','\n",
      "3:35: E231 missing whitespace after ','\n",
      "3:46: E231 missing whitespace after ','\n",
      "12:13: E122 continuation line missing indentation or outdented\n",
      "12:80: E501 line too long (104 > 79 characters)\n",
      "12:105: W291 trailing whitespace\n",
      "14:22: E225 missing whitespace around operator\n",
      "15:13: E265 block comment should start with '# '\n",
      "17:80: E501 line too long (94 > 79 characters)\n",
      "20:13: E265 block comment should start with '# '\n",
      "20:80: E501 line too long (95 > 79 characters)\n",
      "22:13: E265 block comment should start with '# '\n",
      "26:13: E265 block comment should start with '# '\n",
      "27:80: E501 line too long (131 > 79 characters)\n",
      "29:29: E222 multiple spaces after operator\n",
      "30:13: E265 block comment should start with '# '\n",
      "31:1: W293 blank line contains whitespace\n",
      "33:13: E265 block comment should start with '# '\n",
      "45:23: E231 missing whitespace after ','\n",
      "45:39: E231 missing whitespace after ','\n",
      "45:48: E251 unexpected spaces around keyword / parameter equals\n",
      "45:50: E251 unexpected spaces around keyword / parameter equals\n",
      "47:1: E305 expected 2 blank lines after class or function definition, found 0\n",
      "61:1: W391 blank line at end of file\n"
     ]
    }
   ],
   "source": [
    "cryptos = ['BTCUSDT','ETHUSDT','LTCUSDT','BNBUSDT','DOGEUSDT']\n",
    "\n",
    "def get_data_daily(symbol,interval,start_date,end_date):\n",
    "    start_date = datetime.strptime(start_date, '%d-%m-%Y')\n",
    "    start_date_utc = int(start_date.timestamp())\n",
    "    end_date = datetime.strptime(end_date, '%d-%m-%Y')\n",
    "    end_date_utc = int(end_date.timestamp())\n",
    "    output = []\n",
    "    try:\n",
    "        while end_date > start_date:\n",
    "            data = client_binance.get_historical_klines(\n",
    "            symbol=symbol, interval=interval, start_str=start_date_utc, end_str=end_date_utc, limit=1000 \n",
    "            )\n",
    "            output +=data\n",
    "            #timeframe = interval_to_milliseconds(interval)\n",
    "            if not data:\n",
    "                logger.error(f\"No data returned for {symbol} from {start_date} to {end_date}\")\n",
    "                return None\n",
    "            last_date = data[-1][0]\n",
    "            #get day,month and year from last date and compare with end_date day,month and year\n",
    "            last_datetime = datetime.utcfromtimestamp(last_date / 1000)\n",
    "            #end_datetime = datetime.strptime(end_date, '%d-%m-%Y')\n",
    "            if last_datetime:\n",
    "                logger.info(last_datetime)\n",
    "                break\n",
    "            #the below is to check last data point\n",
    "            if last_datetime.day == end_date.day and last_datetime.year == end_date.year and last_datetime.month == end_date.month:\n",
    "                break\n",
    "            start_date_utc =  last_datetime + relativedelta(days=1)\n",
    "            #start_date = str(start_datetime)\n",
    "            \n",
    "            logger.info(client_binance.response.headers['x-mbx-used-weight'])\n",
    "            #for daily add sleep function\n",
    "            if client_binance.response.headers['x-mbx-used-weight'] == 5000:\n",
    "                time.sleep(10)\n",
    "                logger.info(\"sleeping due to hitting rate limit\")\n",
    "        return output\n",
    "    except BinanceAPIException as e:\n",
    "        logger.error(f\"order issue:{e}\", stack_info=True, exc_info=True)\n",
    "        return None\n",
    "    except BinanceRequestException as e:\n",
    "        logger.error(f\"Network issue: {e}\", stack_info=True, exc_info=True)\n",
    "        return None\n",
    "    except Exception as e:\n",
    "        logger.error(e,stack_info=True,exc_info = True)\n",
    "        return None\n",
    "columns = [\n",
    "    \"Kline open time\",\n",
    "    \"Open Price\",\n",
    "    \"High price\",\n",
    "    \"Low price\",\n",
    "    \"Close Price\",\n",
    "    \"Volume\",\n",
    "    \"Kline Close time\",\n",
    "    \"Quote asset volume\",\n",
    "    \"Number of trades\",\n",
    "    \"Taker buy base asset volume\",\n",
    "    \"Taker buy quote asset volume\",\n",
    "    \"Ignore\",\n",
    "]\n"
   ]
  },
  {
   "cell_type": "code",
   "execution_count": 53,
   "id": "fe229a77-bb5a-455b-b949-338650f19169",
   "metadata": {},
   "outputs": [
    {
     "name": "stderr",
     "output_type": "stream",
     "text": [
      "No data returned for ETHUSDT from 2024-12-01 00:00:00 to 2024-12-05 00:00:00\n",
      "1:29: E251 unexpected spaces around keyword / parameter equals\n",
      "1:31: E251 unexpected spaces around keyword / parameter equals\n",
      "1:41: E231 missing whitespace after ','\n",
      "1:50: E251 unexpected spaces around keyword / parameter equals\n",
      "1:52: E251 unexpected spaces around keyword / parameter equals\n",
      "1:57: E231 missing whitespace after ','\n",
      "1:68: E251 unexpected spaces around keyword / parameter equals\n",
      "1:70: E251 unexpected spaces around keyword / parameter equals\n",
      "1:80: E501 line too long (107 > 79 characters)\n",
      "1:83: E231 missing whitespace after ','\n",
      "1:92: E251 unexpected spaces around keyword / parameter equals\n",
      "1:94: E251 unexpected spaces around keyword / parameter equals\n"
     ]
    }
   ],
   "source": [
    "data = get_data_daily(symbol = 'ETHUSDT',interval = '1d',start_date = \"01-12-2024\",end_date = \"05-12-2024\")"
   ]
  },
  {
   "cell_type": "code",
   "execution_count": 26,
   "id": "53e2df39-a71f-48c5-90f6-960c383d2277",
   "metadata": {
    "collapsed": true,
    "jupyter": {
     "outputs_hidden": true,
     "source_hidden": true
    },
    "scrolled": true
   },
   "outputs": [
    {
     "name": "stderr",
     "output_type": "stream",
     "text": [
      "1:26: E231 missing whitespace after ','\n",
      "2:5: E265 block comment should start with '# '\n",
      "5:80: E501 line too long (97 > 79 characters)\n",
      "6:52: E231 missing whitespace after ','\n",
      "7:34: E231 missing whitespace after ','\n",
      "7:47: E231 missing whitespace after ','\n",
      "7:61: E231 missing whitespace after ','\n",
      "9:12: E127 continuation line over-indented for visual indent\n",
      "13:23: E231 missing whitespace after ','\n",
      "13:34: E251 unexpected spaces around keyword / parameter equals\n",
      "13:36: E251 unexpected spaces around keyword / parameter equals\n",
      "13:51: E251 unexpected spaces around keyword / parameter equals\n",
      "13:53: E251 unexpected spaces around keyword / parameter equals\n"
     ]
    }
   ],
   "source": [
    "def spark_df_daily(output,columns):\n",
    "    #implement schema check\n",
    "    try:\n",
    "        dataframe = spark.createDataFrame(output, columns)\n",
    "        df = dataframe.withColumn(\"Kline open time\", to_timestamp(col(\"Kline open time\") / 1000))\n",
    "        df = df.withColumnRenamed(\"Kline open time\",\"datetime\")\n",
    "        df = df.select('datetime','Open Price','Close Price','Volume')\n",
    "        df = df.withColumn(\"year\", year(df[\"datetime\"])) \\\n",
    "           .withColumn(\"month\", month(df[\"datetime\"]))\n",
    "        logger.info(df.head(5))\n",
    "        return df\n",
    "    except Exception as e:\n",
    "        logger.error(e,stack_info = True, exc_info = True)\n",
    "        return None"
   ]
  },
  {
   "cell_type": "code",
   "execution_count": 40,
   "id": "cadcd065-7b6a-4002-a741-7a3665744953",
   "metadata": {
    "collapsed": true,
    "jupyter": {
     "outputs_hidden": true
    }
   },
   "outputs": [
    {
     "name": "stderr",
     "output_type": "stream",
     "text": [
      "[Row(datetime=datetime.datetime(2024, 2, 1, 0, 0), Open Price='2283.15000000', Close Price='3340.09000000', Volume='12127707.29890000', year=2024, month=2), Row(datetime=datetime.datetime(2024, 3, 1, 0, 0), Open Price='3340.10000000', Close Price='3645.29000000', Volume='17665326.08550000', year=2024, month=3), Row(datetime=datetime.datetime(2024, 4, 1, 1, 0), Open Price='3645.29000000', Close Price='3014.05000000', Volume='12887073.77990000', year=2024, month=4), Row(datetime=datetime.datetime(2024, 5, 1, 1, 0), Open Price='3014.04000000', Close Price='3762.29000000', Volume='11599042.91380000', year=2024, month=5)]\n",
      "1:25: E231 missing whitespace after ','\n"
     ]
    }
   ],
   "source": [
    "df = spark_df_daily(data,columns)"
   ]
  },
  {
   "cell_type": "code",
   "execution_count": 43,
   "id": "845062ea-3e0d-45c3-a265-34ed46892c57",
   "metadata": {},
   "outputs": [],
   "source": [
    "start_date = \"01-12-2024\"\n",
    "end_date = \"05-12-2024\""
   ]
  },
  {
   "cell_type": "code",
   "execution_count": 48,
   "id": "5fcface9-ec6c-4906-b5b7-a98bedafa409",
   "metadata": {},
   "outputs": [
    {
     "data": {
      "text/plain": [
       "1733011200.0"
      ]
     },
     "execution_count": 48,
     "metadata": {},
     "output_type": "execute_result"
    }
   ],
   "source": [
    "date_obj = datetime.strptime(start_date, '%d-%m-%Y')\n",
    "timestamp = date_obj.timestamp()\n",
    "timestamp"
   ]
  },
  {
   "cell_type": "code",
   "execution_count": 49,
   "id": "18bae70a-9e62-4406-9b4f-15d58e8eba56",
   "metadata": {},
   "outputs": [
    {
     "data": {
      "text/plain": [
       "float"
      ]
     },
     "execution_count": 49,
     "metadata": {},
     "output_type": "execute_result"
    }
   ],
   "source": [
    "type(timestamp)"
   ]
  },
  {
   "cell_type": "code",
   "execution_count": null,
   "id": "8f33257d-747c-4ef8-9752-44e6e9a629d2",
   "metadata": {},
   "outputs": [],
   "source": []
  }
 ],
 "metadata": {
  "kernelspec": {
   "display_name": "Python 3 (ipykernel)",
   "language": "python",
   "name": "python3"
  },
  "language_info": {
   "codemirror_mode": {
    "name": "ipython",
    "version": 3
   },
   "file_extension": ".py",
   "mimetype": "text/x-python",
   "name": "python",
   "nbconvert_exporter": "python",
   "pygments_lexer": "ipython3",
   "version": "3.9.1"
  }
 },
 "nbformat": 4,
 "nbformat_minor": 5
}
