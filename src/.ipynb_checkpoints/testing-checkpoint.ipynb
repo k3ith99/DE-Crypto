{
 "cells": [
  {
   "cell_type": "code",
   "execution_count": 1,
   "id": "a2610a2d-8b5a-4e7a-ae7b-a53bea4fca9f",
   "metadata": {},
   "outputs": [],
   "source": [
    "%load_ext pycodestyle_magic\n",
    "%pycodestyle_on\n",
    "#%pycodestyle_off -to turn it off"
   ]
  },
  {
   "cell_type": "code",
   "execution_count": 3,
   "id": "176ccd7b-e558-4275-a61f-9ea5b537ff64",
   "metadata": {},
   "outputs": [
    {
     "ename": "NameError",
     "evalue": "name 'x' is not defined",
     "output_type": "error",
     "traceback": [
      "\u001b[0;31m---------------------------------------------------------------------------\u001b[0m",
      "\u001b[0;31mNameError\u001b[0m                                 Traceback (most recent call last)",
      "Cell \u001b[0;32mIn[3], line 1\u001b[0m\n\u001b[0;32m----> 1\u001b[0m a \u001b[38;5;241m=\u001b[39m   \u001b[43mx\u001b[49m\n",
      "\u001b[0;31mNameError\u001b[0m: name 'x' is not defined"
     ]
    },
    {
     "name": "stderr",
     "output_type": "stream",
     "text": [
      "1:4: E222 multiple spaces after operator\n"
     ]
    }
   ],
   "source": [
    "a =   x"
   ]
  },
  {
   "cell_type": "code",
   "execution_count": 7,
   "id": "ddbb3812-c3d5-41dc-bfd9-efcc2ff37cbc",
   "metadata": {},
   "outputs": [
    {
     "name": "stdout",
     "output_type": "stream",
     "text": [
      "Database has been created successfully !!\n"
     ]
    }
   ],
   "source": [
    "import psycopg2\n",
    "\n",
    "# connection establishment\n",
    "conn = psycopg2.connect(\n",
    "database=\"postgres\",\n",
    "\tuser='postgres',\n",
    "\tpassword='postgres',\n",
    "\thost='localhost',\n",
    "\tport= '5432'\n",
    ")\n",
    "conn.autocommit = True\n",
    " \n",
    "# Creating a cursor object\n",
    "cursor = conn.cursor()\n",
    " \n",
    "# query to create a database \n",
    "sql = ''' CREATE DATABASE crypto ''';\n",
    " \n",
    "# executing above query\n",
    "cursor.execute(sql)\n",
    "print(\"Database has been created successfully !!\");\n",
    " \n",
    "# Closing the connection\n",
    "conn.close()"
   ]
  },
  {
   "cell_type": "code",
   "execution_count": 3,
   "id": "166a6756-7ae7-4699-afd7-c82991a3f269",
   "metadata": {},
   "outputs": [
    {
     "ename": "NameError",
     "evalue": "name 'conn' is not defined",
     "output_type": "error",
     "traceback": [
      "\u001b[0;31m---------------------------------------------------------------------------\u001b[0m",
      "\u001b[0;31mNameError\u001b[0m                                 Traceback (most recent call last)",
      "Cell \u001b[0;32mIn[3], line 1\u001b[0m\n\u001b[0;32m----> 1\u001b[0m \u001b[43mconn\u001b[49m\u001b[38;5;241m.\u001b[39mautocommit \u001b[38;5;241m=\u001b[39m \u001b[38;5;28;01mTrue\u001b[39;00m\n\u001b[1;32m      3\u001b[0m \u001b[38;5;66;03m# Creating a cursor object\u001b[39;00m\n\u001b[1;32m      4\u001b[0m cursor \u001b[38;5;241m=\u001b[39m conn\u001b[38;5;241m.\u001b[39mcursor()\n",
      "\u001b[0;31mNameError\u001b[0m: name 'conn' is not defined"
     ]
    }
   ],
   "source": [
    "conn.autocommit = True\n",
    "\n",
    "# Creating a cursor object\n",
    "cursor = conn.cursor()\n",
    "\n",
    "# query to create a database \n",
    "sql = ''' \n",
    "CREATE TABLE Crypto(\n",
    "id INT PRIMARY KEY\n",
    "name VARCHAR NOT NULL\n",
    "ticker VARCHAR NOT NULL\n",
    ")\n",
    "\n",
    "''';\n",
    "\n",
    "# executing above query\n",
    "cursor.execute(sql)\n",
    "print(\"Database has been created successfully !!\");\n",
    "\n",
    "# Closing the connection\n",
    "conn.close()"
   ]
  },
  {
   "cell_type": "code",
   "execution_count": null,
   "id": "be97e90a-d6ab-4322-b94a-38c9b0143c5c",
   "metadata": {},
   "outputs": [],
   "source": []
  }
 ],
 "metadata": {
  "kernelspec": {
   "display_name": "Python 3 (ipykernel)",
   "language": "python",
   "name": "python3"
  },
  "language_info": {
   "codemirror_mode": {
    "name": "ipython",
    "version": 3
   },
   "file_extension": ".py",
   "mimetype": "text/x-python",
   "name": "python",
   "nbconvert_exporter": "python",
   "pygments_lexer": "ipython3",
   "version": "3.9.1"
  }
 },
 "nbformat": 4,
 "nbformat_minor": 5
}
