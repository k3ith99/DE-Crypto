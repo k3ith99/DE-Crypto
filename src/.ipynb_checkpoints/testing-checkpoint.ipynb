{
 "cells": [
  {
   "cell_type": "code",
   "execution_count": 1,
   "id": "a2610a2d-8b5a-4e7a-ae7b-a53bea4fca9f",
   "metadata": {},
   "outputs": [],
   "source": [
    "%load_ext pycodestyle_magic\n",
    "%pycodestyle_on\n",
    "# %pycodestyle_off -to turn it off"
   ]
  },
  {
   "cell_type": "code",
   "execution_count": 2,
   "id": "176ccd7b-e558-4275-a61f-9ea5b537ff64",
   "metadata": {},
   "outputs": [
    {
     "data": {
      "text/plain": [
       "True"
      ]
     },
     "execution_count": 2,
     "metadata": {},
     "output_type": "execute_result"
    },
    {
     "name": "stderr",
     "output_type": "stream",
     "text": [
      "5:80: E501 line too long (87 > 79 characters)\n"
     ]
    }
   ],
   "source": [
    "from minio import Minio\n",
    "from pyspark import SparkContext\n",
    "from pyspark.sql import SparkSession\n",
    "from pyspark.sql.functions import col, to_timestamp, month, year\n",
    "from pyspark.sql.types import StructType, StructField, IntegerType, FloatType, LongType\n",
    "import requests\n",
    "import json\n",
    "import pandas as pd\n",
    "from binance import Client\n",
    "from datetime import datetime, date\n",
    "import os\n",
    "from dotenv import load_dotenv, dotenv_values\n",
    "from binance.helpers import date_to_milliseconds, interval_to_milliseconds\n",
    "from binance.exceptions import BinanceRequestException, BinanceAPIException\n",
    "from dateutil.relativedelta import relativedelta\n",
    "from dateutil.parser import parse\n",
    "import time\n",
    "import logging\n",
    "load_dotenv()"
   ]
  },
  {
   "cell_type": "code",
   "execution_count": 3,
   "id": "0d85afa7-52c7-4ca8-a5a1-94680a141540",
   "metadata": {},
   "outputs": [],
   "source": [
    "API_KEY = os.getenv(\"API_KEY\")\n",
    "SECRET_KEY = os.getenv(\"SECRET_KEY\")\n",
    "MINIO_USER = os.getenv(\"MINIO_ROOT_USER\")\n",
    "MINIO_PASSWORD = os.getenv(\"MINIO_ROOT_PASSWORD\")\n",
    "client_binance = Client(API_KEY, SECRET_KEY)"
   ]
  },
  {
   "cell_type": "code",
   "execution_count": 4,
   "id": "443a3384-b5c7-4824-9bdd-cd0093557942",
   "metadata": {},
   "outputs": [
    {
     "name": "stderr",
     "output_type": "stream",
     "text": [
      "Setting default log level to \"WARN\".\n",
      "To adjust logging level use sc.setLogLevel(newLevel). For SparkR, use setLogLevel(newLevel).\n",
      "25/04/17 16:45:18 WARN NativeCodeLoader: Unable to load native-hadoop library for your platform... using builtin-java classes where applicable\n",
      "6:67: E261 at least two spaces before inline comment\n",
      "6:67: E262 inline comment should start with '# '\n",
      "6:80: E501 line too long (101 > 79 characters)\n",
      "6:102: W291 trailing whitespace\n",
      "12:80: E501 line too long (80 > 79 characters)\n"
     ]
    }
   ],
   "source": [
    "spark = SparkSession.builder \\\n",
    "    .appName(\"CryptoETL\") \\\n",
    "    .getOrCreate()\n",
    "# Get the SparkContext from the SparkSession\n",
    "sc = spark.sparkContext\n",
    "sc._jsc.hadoopConfiguration().set(\"fs.s3a.access.key\", MINIO_USER)#turn into access key in the future \n",
    "sc._jsc.hadoopConfiguration().set(\"fs.s3a.secret.key\", MINIO_PASSWORD)\n",
    "sc._jsc.hadoopConfiguration().set(\"fs.s3a.endpoint\", \"http://localhost:9000\")\n",
    "sc._jsc.hadoopConfiguration().set(\"fs.s3a.connection.ssl.enabled\", \"true\")\n",
    "sc._jsc.hadoopConfiguration().set(\"fs.s3a.path.style.access\", \"true\")\n",
    "sc._jsc.hadoopConfiguration().set(\"fs.s3a.attempts.maximum\", \"1\")\n",
    "sc._jsc.hadoopConfiguration().set(\"fs.s3a.connection.establish.timeout\", \"5000\")\n",
    "sc._jsc.hadoopConfiguration().set(\"fs.s3a.connection.timeout\", \"10000\")"
   ]
  },
  {
   "cell_type": "code",
   "execution_count": 5,
   "id": "e6a0ec56-8517-42d9-ad4b-6aa969df0649",
   "metadata": {},
   "outputs": [
    {
     "name": "stderr",
     "output_type": "stream",
     "text": [
      "1:1: E265 block comment should start with '# '\n",
      "2:1: E265 block comment should start with '# '\n",
      "3:1: E265 block comment should start with '# '\n",
      "4:1: E265 block comment should start with '# '\n",
      "5:1: E265 block comment should start with '# '\n",
      "6:1: E265 block comment should start with '# '\n"
     ]
    }
   ],
   "source": [
    "#read data for 1 crypto\n",
    "#schema check/validation need to do this, create spark df using schema struct\n",
    "#implement transformations\n",
    "#add unique id for crypto,price,time\n",
    "#split into 3 tables\n",
    "#upload to postgres db"
   ]
  },
  {
   "cell_type": "code",
   "execution_count": 6,
   "id": "7c43d2f8-5234-4968-83fb-0b2cd57e11ce",
   "metadata": {},
   "outputs": [
    {
     "name": "stderr",
     "output_type": "stream",
     "text": [
      "2:31: E261 at least two spaces before inline comment\n",
      "2:32: E262 inline comment should start with '# '\n",
      "6:1: W391 blank line at end of file\n"
     ]
    }
   ],
   "source": [
    "logger = logging.getLogger(__name__)\n",
    "logger.setLevel(logging.DEBUG) #set to debug to capture all levels\n",
    "if logger.hasHandlers():\n",
    "    logger.handlers.clear()\n",
    "logger.propagate = False\n"
   ]
  },
  {
   "cell_type": "code",
   "execution_count": 7,
   "id": "cfb41969-b14c-446a-a285-bad83f6241ec",
   "metadata": {},
   "outputs": [],
   "source": [
    "handler = logging.StreamHandler()\n",
    "handler.setLevel(logging.DEBUG)\n",
    "logger.addHandler(handler)"
   ]
  },
  {
   "cell_type": "code",
   "execution_count": 8,
   "id": "3c314b1a-efc6-48ad-9e52-4e33a35f7be9",
   "metadata": {},
   "outputs": [
    {
     "name": "stderr",
     "output_type": "stream",
     "text": [
      "1:21: E231 missing whitespace after ','\n",
      "1:31: E231 missing whitespace after ','\n",
      "1:41: E231 missing whitespace after ','\n",
      "1:51: E231 missing whitespace after ','\n",
      "4:9: E265 block comment should start with '# '\n",
      "5:19: E251 unexpected spaces around keyword / parameter equals\n",
      "5:21: E251 unexpected spaces around keyword / parameter equals\n",
      "6:19: E251 unexpected spaces around keyword / parameter equals\n",
      "6:21: E251 unexpected spaces around keyword / parameter equals\n"
     ]
    }
   ],
   "source": [
    "cryptos = ['BTCUSDT','ETHUSDT','LTCUSDT','BNBUSDT','DOGEUSDT']\n",
    "client_minio = Minio(\n",
    "        \"localhost:9000\",  # Make sure you're using port 9000 for the S3 API\n",
    "        #minio_url,\n",
    "        access_key = MINIO_USER,\n",
    "        secret_key = MINIO_PASSWORD,\n",
    "        secure=False  # Disable SSL if you're not using SSL certificates\n",
    "        )"
   ]
  },
  {
   "cell_type": "code",
   "execution_count": 9,
   "id": "ee1e80e8-32f9-49d4-b77f-d7e57b734a31",
   "metadata": {
    "scrolled": true
   },
   "outputs": [
    {
     "data": {
      "text/plain": [
       "<minio.datatypes.Object at 0x1205ed910>"
      ]
     },
     "execution_count": 9,
     "metadata": {},
     "output_type": "execute_result"
    },
    {
     "name": "stderr",
     "output_type": "stream",
     "text": [
      "1:37: E251 unexpected spaces around keyword / parameter equals\n",
      "1:39: E251 unexpected spaces around keyword / parameter equals\n",
      "1:54: W291 trailing whitespace\n",
      "2:37: E251 unexpected spaces around keyword / parameter equals\n",
      "2:80: E501 line too long (142 > 79 characters)\n",
      "2:143: W291 trailing whitespace\n",
      "3:35: E251 unexpected spaces around keyword / parameter equals\n",
      "4:25: E124 closing bracket does not match visual indentation\n",
      "5:1: E265 block comment should start with '# '\n",
      "6:1: E265 block comment should start with '# '\n",
      "6:80: E501 line too long (114 > 79 characters)\n"
     ]
    }
   ],
   "source": [
    "client_minio.fget_object(bucket_name = \"binancedata\", \n",
    "                         object_name =\"BNBUSDT/Monthly/year=2019/month=1/part-00000-c9e58e49-1c79-4e98-b1a7-f0611e7acc19.c000.snappy.parquet\", \n",
    "                         file_path =\"./downloaded.parquet\"\n",
    "                        )\n",
    "#binancedata/BNBUSDT/Monthly/year=2019/month=1\n",
    "#binancedata/BNBUSDT/Monthly/year=2019/month=1/part-00000-c9e58e49-1c79-4e98-b1a7-f0611e7acc19.c000.snappy.parquet"
   ]
  },
  {
   "cell_type": "code",
   "execution_count": 10,
   "id": "19fd25a1-c5e7-462e-a072-1b846e26ff9d",
   "metadata": {},
   "outputs": [
    {
     "name": "stderr",
     "output_type": "stream",
     "text": [
      "1:80: E501 line too long (84 > 79 characters)\n"
     ]
    }
   ],
   "source": [
    "objects = client_minio.list_objects(\"binancedata\", prefix=\"BNBUSDT\", recursive=True)\n",
    "filenames = [obj.object_name for obj in objects]\n",
    "filenames = [f for f in filenames if \"_SUCCESS\" not in f]"
   ]
  },
  {
   "cell_type": "code",
   "execution_count": 12,
   "id": "9f94ef50-3582-4690-bd26-c9f9f4cfa976",
   "metadata": {},
   "outputs": [
    {
     "data": {
      "text/plain": [
       "'client_minio.fget_object(bucket_name = \"binancedata\", \\n                         object_name =filenames[0], \\n                         file_path =local_file_path\\n                        )'"
      ]
     },
     "execution_count": 12,
     "metadata": {},
     "output_type": "execute_result"
    },
    {
     "name": "stderr",
     "output_type": "stream",
     "text": [
      "1:57: W291 trailing whitespace\n",
      "2:52: W291 trailing whitespace\n"
     ]
    }
   ],
   "source": [
    "'''client_minio.fget_object(bucket_name = \"binancedata\", \n",
    "                         object_name =filenames[0], \n",
    "                         file_path =local_file_path\n",
    "                        )'''"
   ]
  },
  {
   "cell_type": "code",
   "execution_count": 19,
   "id": "27ae0b85-5911-4b9a-b0be-f2450bd28aca",
   "metadata": {},
   "outputs": [
    {
     "name": "stderr",
     "output_type": "stream",
     "text": [
      "1:80: E501 line too long (150 > 79 characters)\n"
     ]
    }
   ],
   "source": [
    "df_bnb = spark.read.parquet(\"s3a://binancedata/BNBUSDT/Monthly/year=2019/month=1/part-00000-c9e58e49-1c79-4e98-b1a7-f0611e7acc19.c000.snappy.parquet\")"
   ]
  },
  {
   "cell_type": "code",
   "execution_count": 22,
   "id": "57f9b6b8-186e-4358-a864-c75403755c14",
   "metadata": {},
   "outputs": [
    {
     "name": "stderr",
     "output_type": "stream",
     "text": [
      "4:1: W293 blank line contains whitespace\n",
      "5:1: W293 blank line contains whitespace\n",
      "6:1: W293 blank line contains whitespace\n"
     ]
    }
   ],
   "source": [
    "for file in filenames:\n",
    "    df = spark.read.parquet(f\"s3a://binancedata/{file}\")\n",
    "    df_bnb = df_bnb.union(df)\n",
    "                            \n",
    "    \n",
    "    "
   ]
  },
  {
   "cell_type": "code",
   "execution_count": 27,
   "id": "7d7259e1-24a7-43fe-be88-6416794e9e98",
   "metadata": {},
   "outputs": [
    {
     "name": "stdout",
     "output_type": "stream",
     "text": [
      "+-------------------+------------+------------+------------------+\n",
      "|           datetime|  Open Price| Close Price|            Volume|\n",
      "+-------------------+------------+------------+------------------+\n",
      "|2019-01-01 00:00:00|  6.11390000|  6.22000000| 72126339.77000000|\n",
      "|2019-01-01 00:00:00|  6.11390000|  6.22000000| 72126339.77000000|\n",
      "|2019-10-01 01:00:00| 15.84930000| 19.90990000| 53481014.91000000|\n",
      "|2019-11-01 00:00:00| 19.90870000| 15.71180000| 46441747.10000000|\n",
      "|2019-12-01 00:00:00| 15.70300000| 13.71610000| 38189582.55000000|\n",
      "|2019-02-01 00:00:00|  6.22500000| 10.27790000|110685041.86000000|\n",
      "|2019-03-01 00:00:00| 10.27770000| 17.53760000|115379333.44000000|\n",
      "|2019-04-01 01:00:00| 17.52010000| 22.03910000| 83676534.62000000|\n",
      "|2019-05-01 01:00:00| 22.03000000| 32.88620000|104145121.86000000|\n",
      "|2019-06-01 01:00:00| 32.91600000| 32.11400000| 93155800.74000000|\n",
      "|2019-07-01 01:00:00| 32.11410000| 27.75000000| 71835825.11000000|\n",
      "|2019-08-01 01:00:00| 27.73480000| 21.06040000| 43730003.73000000|\n",
      "|2019-09-01 01:00:00| 21.06020000| 15.83490000| 44740437.45000000|\n",
      "|2020-01-01 00:00:00| 13.71590000| 18.26440000| 51701909.53000000|\n",
      "|2020-10-01 01:00:00| 29.26960000| 28.50580000| 81019994.54300000|\n",
      "|2020-11-01 00:00:00| 28.50580000| 31.49350000| 80529464.34400000|\n",
      "|2020-12-01 00:00:00| 31.49350000| 37.35880000| 81889998.06000000|\n",
      "|2020-02-01 00:00:00| 18.26440000| 19.23000000| 80993103.39000000|\n",
      "|2020-03-01 00:00:00| 19.24810000| 12.54510000|137539733.73000000|\n",
      "|2020-04-01 01:00:00| 12.54970000| 16.95420000|118041230.55000000|\n",
      "|2020-05-01 01:00:00| 16.95100000| 17.09160000| 83664305.36000000|\n",
      "|2020-06-01 01:00:00| 17.09260000| 15.38380000| 51987798.59000000|\n",
      "|2020-07-01 01:00:00| 15.39590000| 20.66150000| 69123483.10000000|\n",
      "|2020-08-01 01:00:00| 20.66370000| 23.14770000| 77626733.03000000|\n",
      "|2020-09-01 01:00:00| 23.14810000| 29.26560000|145525582.49400000|\n",
      "|2021-01-01 00:00:00| 37.35960000| 44.32920000|108685854.13700000|\n",
      "|2021-10-01 01:00:00|387.50000000|524.60000000| 36199498.16350000|\n",
      "|2021-11-01 00:00:00|524.60000000|622.50000000| 39485176.55960000|\n",
      "|2021-12-01 00:00:00|622.50000000|511.40000000| 30148546.27500000|\n",
      "|2021-02-01 00:00:00| 44.32910000|210.21380000|232104898.34600000|\n",
      "+-------------------+------------+------------+------------------+\n",
      "only showing top 30 rows\n",
      "\n"
     ]
    }
   ],
   "source": [
    "df_bnb.show(30)"
   ]
  },
  {
   "cell_type": "code",
   "execution_count": 14,
   "id": "4237a394-3060-46c0-b060-19502ed14da3",
   "metadata": {},
   "outputs": [
    {
     "name": "stderr",
     "output_type": "stream",
     "text": [
      "1:1: E265 block comment should start with '# '\n",
      "2:1: E265 block comment should start with '# '\n",
      "3:1: E265 block comment should start with '# '\n",
      "4:1: E265 block comment should start with '# '\n"
     ]
    }
   ],
   "source": [
    "#create tmp file\n",
    "#read data from 1 year and append to a spark df\n",
    "#do transformations when its in spark df\n",
    "#push to postgres"
   ]
  },
  {
   "cell_type": "code",
   "execution_count": null,
   "id": "1e25b66d-fba0-4d88-923d-bf798ef318c6",
   "metadata": {},
   "outputs": [],
   "source": []
  },
  {
   "cell_type": "code",
   "execution_count": null,
   "id": "453db3a1-fc72-403f-8165-d3a870ed3c9f",
   "metadata": {},
   "outputs": [],
   "source": []
  }
 ],
 "metadata": {
  "kernelspec": {
   "display_name": "Python 3 (ipykernel)",
   "language": "python",
   "name": "python3"
  },
  "language_info": {
   "codemirror_mode": {
    "name": "ipython",
    "version": 3
   },
   "file_extension": ".py",
   "mimetype": "text/x-python",
   "name": "python",
   "nbconvert_exporter": "python",
   "pygments_lexer": "ipython3",
   "version": "3.9.1"
  }
 },
 "nbformat": 4,
 "nbformat_minor": 5
}
