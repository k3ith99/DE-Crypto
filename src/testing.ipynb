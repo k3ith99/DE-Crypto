{
 "cells": [
  {
   "cell_type": "code",
   "execution_count": 1,
   "id": "a2610a2d-8b5a-4e7a-ae7b-a53bea4fca9f",
   "metadata": {},
   "outputs": [],
   "source": [
    "%load_ext pycodestyle_magic\n",
    "%pycodestyle_on\n",
    "# %pycodestyle_off -to turn it off"
   ]
  },
  {
   "cell_type": "code",
   "execution_count": 2,
   "id": "176ccd7b-e558-4275-a61f-9ea5b537ff64",
   "metadata": {},
   "outputs": [
    {
     "data": {
      "text/plain": [
       "True"
      ]
     },
     "execution_count": 2,
     "metadata": {},
     "output_type": "execute_result"
    },
    {
     "name": "stderr",
     "output_type": "stream",
     "text": [
      "5:80: E501 line too long (87 > 79 characters)\n"
     ]
    }
   ],
   "source": [
    "from minio import Minio\n",
    "from pyspark import SparkContext\n",
    "from pyspark.sql import SparkSession\n",
    "from pyspark.sql.functions import col, to_timestamp, month, year\n",
    "from pyspark.sql.types import StructType, StructField, IntegerType, FloatType, LongType\n",
    "import requests\n",
    "import json\n",
    "import pandas as pd\n",
    "from binance import Client\n",
    "from datetime import datetime, date\n",
    "import os\n",
    "from dotenv import load_dotenv, dotenv_values\n",
    "from binance.helpers import date_to_milliseconds, interval_to_milliseconds\n",
    "from binance.exceptions import BinanceRequestException, BinanceAPIException\n",
    "from dateutil.relativedelta import relativedelta\n",
    "from dateutil.parser import parse\n",
    "import time\n",
    "import logging\n",
    "load_dotenv()"
   ]
  },
  {
   "cell_type": "code",
   "execution_count": 3,
   "id": "0d85afa7-52c7-4ca8-a5a1-94680a141540",
   "metadata": {},
   "outputs": [],
   "source": [
    "API_KEY = os.getenv(\"API_KEY\")\n",
    "SECRET_KEY = os.getenv(\"SECRET_KEY\")\n",
    "MINIO_USER = os.getenv(\"MINIO_ROOT_USER\")\n",
    "MINIO_PASSWORD = os.getenv(\"MINIO_ROOT_PASSWORD\")\n",
    "client_binance = Client(API_KEY, SECRET_KEY)"
   ]
  },
  {
   "cell_type": "code",
   "execution_count": 4,
   "id": "443a3384-b5c7-4824-9bdd-cd0093557942",
   "metadata": {},
   "outputs": [
    {
     "name": "stderr",
     "output_type": "stream",
     "text": [
      "Setting default log level to \"WARN\".\n",
      "To adjust logging level use sc.setLogLevel(newLevel). For SparkR, use setLogLevel(newLevel).\n",
      "25/04/18 17:55:35 WARN NativeCodeLoader: Unable to load native-hadoop library for your platform... using builtin-java classes where applicable\n",
      "6:67: E261 at least two spaces before inline comment\n",
      "6:67: E262 inline comment should start with '# '\n",
      "6:80: E501 line too long (101 > 79 characters)\n",
      "6:102: W291 trailing whitespace\n",
      "12:80: E501 line too long (80 > 79 characters)\n"
     ]
    }
   ],
   "source": [
    "spark = SparkSession.builder \\\n",
    "    .appName(\"CryptoETL\") \\\n",
    "    .getOrCreate()\n",
    "# Get the SparkContext from the SparkSession\n",
    "sc = spark.sparkContext\n",
    "sc._jsc.hadoopConfiguration().set(\"fs.s3a.access.key\", MINIO_USER)#turn into access key in the future \n",
    "sc._jsc.hadoopConfiguration().set(\"fs.s3a.secret.key\", MINIO_PASSWORD)\n",
    "sc._jsc.hadoopConfiguration().set(\"fs.s3a.endpoint\", \"http://localhost:9000\")\n",
    "sc._jsc.hadoopConfiguration().set(\"fs.s3a.connection.ssl.enabled\", \"true\")\n",
    "sc._jsc.hadoopConfiguration().set(\"fs.s3a.path.style.access\", \"true\")\n",
    "sc._jsc.hadoopConfiguration().set(\"fs.s3a.attempts.maximum\", \"1\")\n",
    "sc._jsc.hadoopConfiguration().set(\"fs.s3a.connection.establish.timeout\", \"5000\")\n",
    "sc._jsc.hadoopConfiguration().set(\"fs.s3a.connection.timeout\", \"10000\")"
   ]
  },
  {
   "cell_type": "code",
   "execution_count": 5,
   "id": "e6a0ec56-8517-42d9-ad4b-6aa969df0649",
   "metadata": {},
   "outputs": [
    {
     "name": "stderr",
     "output_type": "stream",
     "text": [
      "1:1: E265 block comment should start with '# '\n",
      "2:1: E265 block comment should start with '# '\n",
      "3:1: E265 block comment should start with '# '\n",
      "4:1: E265 block comment should start with '# '\n",
      "5:1: E265 block comment should start with '# '\n",
      "6:1: E265 block comment should start with '# '\n"
     ]
    }
   ],
   "source": [
    "#read data for 1 crypto\n",
    "#schema check/validation need to do this, create spark df using schema struct\n",
    "#implement transformations\n",
    "#add unique id for crypto,price,time\n",
    "#split into 3 tables\n",
    "#upload to postgres db"
   ]
  },
  {
   "cell_type": "code",
   "execution_count": 6,
   "id": "7c43d2f8-5234-4968-83fb-0b2cd57e11ce",
   "metadata": {},
   "outputs": [
    {
     "name": "stderr",
     "output_type": "stream",
     "text": [
      "2:31: E261 at least two spaces before inline comment\n",
      "2:32: E262 inline comment should start with '# '\n",
      "6:1: W391 blank line at end of file\n"
     ]
    }
   ],
   "source": [
    "logger = logging.getLogger(__name__)\n",
    "logger.setLevel(logging.DEBUG) #set to debug to capture all levels\n",
    "if logger.hasHandlers():\n",
    "    logger.handlers.clear()\n",
    "logger.propagate = False\n"
   ]
  },
  {
   "cell_type": "code",
   "execution_count": 7,
   "id": "cfb41969-b14c-446a-a285-bad83f6241ec",
   "metadata": {},
   "outputs": [],
   "source": [
    "handler = logging.StreamHandler()\n",
    "handler.setLevel(logging.DEBUG)\n",
    "logger.addHandler(handler)"
   ]
  },
  {
   "cell_type": "code",
   "execution_count": 8,
   "id": "3c314b1a-efc6-48ad-9e52-4e33a35f7be9",
   "metadata": {},
   "outputs": [
    {
     "name": "stderr",
     "output_type": "stream",
     "text": [
      "1:21: E231 missing whitespace after ','\n",
      "1:31: E231 missing whitespace after ','\n",
      "1:41: E231 missing whitespace after ','\n",
      "1:51: E231 missing whitespace after ','\n",
      "4:9: E265 block comment should start with '# '\n",
      "5:19: E251 unexpected spaces around keyword / parameter equals\n",
      "5:21: E251 unexpected spaces around keyword / parameter equals\n",
      "6:19: E251 unexpected spaces around keyword / parameter equals\n",
      "6:21: E251 unexpected spaces around keyword / parameter equals\n"
     ]
    }
   ],
   "source": [
    "cryptos = ['BTCUSDT','ETHUSDT','LTCUSDT','BNBUSDT','DOGEUSDT']\n",
    "client_minio = Minio(\n",
    "        \"localhost:9000\",  # Make sure you're using port 9000 for the S3 API\n",
    "        #minio_url,\n",
    "        access_key = MINIO_USER,\n",
    "        secret_key = MINIO_PASSWORD,\n",
    "        secure=False  # Disable SSL if you're not using SSL certificates\n",
    "        )"
   ]
  },
  {
   "cell_type": "code",
   "execution_count": 9,
   "id": "ee1e80e8-32f9-49d4-b77f-d7e57b734a31",
   "metadata": {
    "scrolled": true
   },
   "outputs": [
    {
     "data": {
      "text/plain": [
       "'client_minio.fget_object(bucket_name = \"binancedata\", \\n                         object_name =\"BNBUSDT/Monthly/year=2019/month=1/part-00000-c9e58e49-1c79-4e98-b1a7-f0611e7acc19.c000.snappy.parquet\", \\n                         file_path =\"./downloaded.parquet\"\\n                        )'"
      ]
     },
     "execution_count": 9,
     "metadata": {},
     "output_type": "execute_result"
    },
    {
     "name": "stderr",
     "output_type": "stream",
     "text": [
      "1:57: W291 trailing whitespace\n",
      "2:80: E501 line too long (142 > 79 characters)\n",
      "2:143: W291 trailing whitespace\n",
      "5:1: E265 block comment should start with '# '\n",
      "6:1: E265 block comment should start with '# '\n",
      "6:80: E501 line too long (114 > 79 characters)\n"
     ]
    }
   ],
   "source": [
    "'''client_minio.fget_object(bucket_name = \"binancedata\", \n",
    "                         object_name =\"BNBUSDT/Monthly/year=2019/month=1/part-00000-c9e58e49-1c79-4e98-b1a7-f0611e7acc19.c000.snappy.parquet\", \n",
    "                         file_path =\"./downloaded.parquet\"\n",
    "                        )'''\n",
    "#binancedata/BNBUSDT/Monthly/year=2019/month=1\n",
    "#binancedata/BNBUSDT/Monthly/year=2019/month=1/part-00000-c9e58e49-1c79-4e98-b1a7-f0611e7acc19.c000.snappy.parquet"
   ]
  },
  {
   "cell_type": "code",
   "execution_count": 10,
   "id": "19fd25a1-c5e7-462e-a072-1b846e26ff9d",
   "metadata": {},
   "outputs": [
    {
     "name": "stderr",
     "output_type": "stream",
     "text": [
      "1:80: E501 line too long (84 > 79 characters)\n"
     ]
    }
   ],
   "source": [
    "objects = client_minio.list_objects(\"binancedata\", prefix=\"BNBUSDT\", recursive=True)\n",
    "filenames = [obj.object_name for obj in objects]\n",
    "filenames = [f for f in filenames if \"_SUCCESS\" not in f]"
   ]
  },
  {
   "cell_type": "code",
   "execution_count": 11,
   "id": "9f94ef50-3582-4690-bd26-c9f9f4cfa976",
   "metadata": {},
   "outputs": [
    {
     "data": {
      "text/plain": [
       "'client_minio.fget_object(bucket_name = \"binancedata\", \\n                         object_name =filenames[0], \\n                         file_path =local_file_path\\n                        )'"
      ]
     },
     "execution_count": 11,
     "metadata": {},
     "output_type": "execute_result"
    },
    {
     "name": "stderr",
     "output_type": "stream",
     "text": [
      "1:57: W291 trailing whitespace\n",
      "2:52: W291 trailing whitespace\n"
     ]
    }
   ],
   "source": [
    "'''client_minio.fget_object(bucket_name = \"binancedata\", \n",
    "                         object_name =filenames[0], \n",
    "                         file_path =local_file_path\n",
    "                        )'''"
   ]
  },
  {
   "cell_type": "code",
   "execution_count": 12,
   "id": "27ae0b85-5911-4b9a-b0be-f2450bd28aca",
   "metadata": {},
   "outputs": [
    {
     "name": "stderr",
     "output_type": "stream",
     "text": [
      "25/04/18 17:55:35 WARN MetricsConfig: Cannot locate configuration: tried hadoop-metrics2-s3a-file-system.properties,hadoop-metrics2.properties\n",
      "1:80: E501 line too long (150 > 79 characters)\n"
     ]
    }
   ],
   "source": [
    "df_bnb = spark.read.parquet(\"s3a://binancedata/BNBUSDT/Monthly/year=2019/month=3/part-00000-4770a452-7828-40a3-b901-c42eda5f9c00.c000.snappy.parquet\")"
   ]
  },
  {
   "cell_type": "code",
   "execution_count": 13,
   "id": "57f9b6b8-186e-4358-a864-c75403755c14",
   "metadata": {},
   "outputs": [
    {
     "name": "stderr",
     "output_type": "stream",
     "text": [
      "4:1: W293 blank line contains whitespace\n",
      "5:1: W293 blank line contains whitespace\n",
      "6:1: W293 blank line contains whitespace\n"
     ]
    }
   ],
   "source": [
    "for file in filenames:\n",
    "    df = spark.read.parquet(f\"s3a://binancedata/{file}\")\n",
    "    df_bnb = df_bnb.union(df)\n",
    "                            \n",
    "    \n",
    "    "
   ]
  },
  {
   "cell_type": "code",
   "execution_count": 14,
   "id": "be352721-d67a-4d15-8dcc-63967a344c34",
   "metadata": {},
   "outputs": [
    {
     "data": {
      "text/plain": [
       "pyspark.sql.column.Column"
      ]
     },
     "execution_count": 14,
     "metadata": {},
     "output_type": "execute_result"
    }
   ],
   "source": [
    "type(df_bnb['Open Price'].iloc[1])"
   ]
  },
  {
   "cell_type": "code",
   "execution_count": 15,
   "id": "0d4c2ea8-bebb-4acc-8486-b5da96e641ba",
   "metadata": {},
   "outputs": [
    {
     "name": "stdout",
     "output_type": "stream",
     "text": [
      "+-------------------+------------+------------+----------------+\n",
      "|datetime           |Open Price  |Close Price |Volume          |\n",
      "+-------------------+------------+------------+----------------+\n",
      "|2024-09-01 01:00:00|532.90000000|567.40000000|7343488.67100000|\n",
      "+-------------------+------------+------------+----------------+\n",
      "\n"
     ]
    }
   ],
   "source": [
    "df.show(5, truncate=False)"
   ]
  },
  {
   "cell_type": "code",
   "execution_count": 16,
   "id": "4237a394-3060-46c0-b060-19502ed14da3",
   "metadata": {},
   "outputs": [
    {
     "name": "stderr",
     "output_type": "stream",
     "text": [
      "1:1: E265 block comment should start with '# '\n",
      "2:1: E265 block comment should start with '# '\n",
      "3:1: E265 block comment should start with '# '\n",
      "4:1: E265 block comment should start with '# '\n"
     ]
    }
   ],
   "source": [
    "#create tmp file\n",
    "#read data from 1 year and append to a spark df\n",
    "#do transformations when its in spark df\n",
    "#push to postgres"
   ]
  },
  {
   "cell_type": "code",
   "execution_count": 25,
   "id": "1e25b66d-fba0-4d88-923d-bf798ef318c6",
   "metadata": {},
   "outputs": [
    {
     "ename": "NameError",
     "evalue": "name 'TimestampNTZType' is not defined",
     "output_type": "error",
     "traceback": [
      "\u001b[0;31m---------------------------------------------------------------------------\u001b[0m",
      "\u001b[0;31mNameError\u001b[0m                                 Traceback (most recent call last)",
      "Cell \u001b[0;32mIn[25], line 2\u001b[0m\n\u001b[1;32m      1\u001b[0m schema \u001b[38;5;241m=\u001b[39m StructType([\\\n\u001b[0;32m----> 2\u001b[0m                     StructField(name \u001b[38;5;241m=\u001b[39m \u001b[38;5;124m'\u001b[39m\u001b[38;5;124mDate\u001b[39m\u001b[38;5;124m'\u001b[39m,datatype \u001b[38;5;241m=\u001b[39m \u001b[43mTimestampNTZType\u001b[49m(),nullable \u001b[38;5;241m=\u001b[39m \u001b[38;5;28;01mFalse\u001b[39;00m), \\\n\u001b[1;32m      3\u001b[0m                     StructField(name\u001b[38;5;241m=\u001b[39m \u001b[38;5;124m'\u001b[39m\u001b[38;5;124mOpen Price\u001b[39m\u001b[38;5;124m'\u001b[39m,datatype \u001b[38;5;241m=\u001b[39m LongType(),nullable \u001b[38;5;241m=\u001b[39m\u001b[38;5;28;01mFalse\u001b[39;00m), \\\n\u001b[1;32m      4\u001b[0m                     StructField(name\u001b[38;5;241m=\u001b[39m \u001b[38;5;124m'\u001b[39m\u001b[38;5;124mClose Price\u001b[39m\u001b[38;5;124m'\u001b[39m,datatype \u001b[38;5;241m=\u001b[39m LongType(),nullable \u001b[38;5;241m=\u001b[39m\u001b[38;5;28;01mFalse\u001b[39;00m), \\\n\u001b[1;32m      5\u001b[0m                     StructField(name\u001b[38;5;241m=\u001b[39m \u001b[38;5;124m'\u001b[39m\u001b[38;5;124mVolume\u001b[39m\u001b[38;5;124m'\u001b[39m,datatype \u001b[38;5;241m=\u001b[39m LongType(),nullable \u001b[38;5;241m=\u001b[39m \u001b[38;5;28;01mFalse\u001b[39;00m)\\\n\u001b[1;32m      6\u001b[0m                                 ])\n",
      "\u001b[0;31mNameError\u001b[0m: name 'TimestampNTZType' is not defined"
     ]
    },
    {
     "name": "stderr",
     "output_type": "stream",
     "text": [
      "1:22: E502 the backslash is redundant between brackets\n",
      "2:37: E251 unexpected spaces around keyword / parameter equals\n",
      "2:39: E251 unexpected spaces around keyword / parameter equals\n",
      "2:46: E231 missing whitespace after ','\n",
      "2:55: E251 unexpected spaces around keyword / parameter equals\n",
      "2:57: E251 unexpected spaces around keyword / parameter equals\n",
      "2:76: E231 missing whitespace after ','\n",
      "2:80: E501 line too long (96 > 79 characters)\n",
      "2:85: E251 unexpected spaces around keyword / parameter equals\n",
      "2:87: E251 unexpected spaces around keyword / parameter equals\n",
      "2:96: E502 the backslash is redundant between brackets\n",
      "3:38: E251 unexpected spaces around keyword / parameter equals\n",
      "3:51: E231 missing whitespace after ','\n",
      "3:60: E251 unexpected spaces around keyword / parameter equals\n",
      "3:62: E251 unexpected spaces around keyword / parameter equals\n",
      "3:73: E231 missing whitespace after ','\n",
      "3:80: E501 line too long (92 > 79 characters)\n",
      "3:82: E251 unexpected spaces around keyword / parameter equals\n",
      "3:92: E502 the backslash is redundant between brackets\n",
      "4:38: E251 unexpected spaces around keyword / parameter equals\n",
      "4:52: E231 missing whitespace after ','\n",
      "4:61: E251 unexpected spaces around keyword / parameter equals\n",
      "4:63: E251 unexpected spaces around keyword / parameter equals\n",
      "4:74: E231 missing whitespace after ','\n",
      "4:80: E501 line too long (93 > 79 characters)\n",
      "4:83: E251 unexpected spaces around keyword / parameter equals\n",
      "4:93: E502 the backslash is redundant between brackets\n",
      "5:38: E251 unexpected spaces around keyword / parameter equals\n",
      "5:47: E231 missing whitespace after ','\n",
      "5:56: E251 unexpected spaces around keyword / parameter equals\n",
      "5:58: E251 unexpected spaces around keyword / parameter equals\n",
      "5:69: E231 missing whitespace after ','\n",
      "5:78: E251 unexpected spaces around keyword / parameter equals\n",
      "5:80: E251 unexpected spaces around keyword / parameter equals\n",
      "5:80: E501 line too long (87 > 79 characters)\n",
      "5:87: E502 the backslash is redundant between brackets\n",
      "6:33: E124 closing bracket does not match visual indentation\n",
      "7:1: W293 blank line contains whitespace\n"
     ]
    }
   ],
   "source": [
    "schema = StructType([\\\n",
    "                    StructField(name = 'Date',datatype = TimestampNTZType(),nullable = False), \\\n",
    "                    StructField(name= 'Open Price',datatype = LongType(),nullable =False), \\\n",
    "                    StructField(name= 'Close Price',datatype = LongType(),nullable =False), \\\n",
    "                    StructField(name= 'Volume',datatype = LongType(),nullable = False)\\\n",
    "                                ])\n",
    "                    "
   ]
  },
  {
   "cell_type": "code",
   "execution_count": null,
   "id": "453db3a1-fc72-403f-8165-d3a870ed3c9f",
   "metadata": {},
   "outputs": [],
   "source": []
  }
 ],
 "metadata": {
  "kernelspec": {
   "display_name": "Python 3 (ipykernel)",
   "language": "python",
   "name": "python3"
  },
  "language_info": {
   "codemirror_mode": {
    "name": "ipython",
    "version": 3
   },
   "file_extension": ".py",
   "mimetype": "text/x-python",
   "name": "python",
   "nbconvert_exporter": "python",
   "pygments_lexer": "ipython3",
   "version": "3.9.1"
  }
 },
 "nbformat": 4,
 "nbformat_minor": 5
}
