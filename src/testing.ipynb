{
 "cells": [
  {
   "cell_type": "code",
   "execution_count": 1,
   "id": "a2610a2d-8b5a-4e7a-ae7b-a53bea4fca9f",
   "metadata": {},
   "outputs": [],
   "source": [
    "%load_ext pycodestyle_magic\n",
    "%pycodestyle_on\n",
    "# %pycodestyle_off -to turn it off"
   ]
  },
  {
   "cell_type": "code",
   "execution_count": 2,
   "id": "176ccd7b-e558-4275-a61f-9ea5b537ff64",
   "metadata": {},
   "outputs": [
    {
     "data": {
      "text/plain": [
       "True"
      ]
     },
     "execution_count": 2,
     "metadata": {},
     "output_type": "execute_result"
    },
    {
     "name": "stderr",
     "output_type": "stream",
     "text": [
      "6:80: E501 line too long (87 > 79 characters)\n"
     ]
    }
   ],
   "source": [
    "# import all libraries\n",
    "from minio import Minio\n",
    "from pyspark import SparkContext\n",
    "from pyspark.sql import SparkSession\n",
    "from pyspark.sql.functions import col, to_timestamp, month, year\n",
    "from pyspark.sql.types import StructType, StructField, IntegerType, FloatType, LongType\n",
    "import requests\n",
    "import json\n",
    "import pandas as pd\n",
    "from binance import Client\n",
    "from datetime import datetime, date\n",
    "import os\n",
    "from dotenv import load_dotenv, dotenv_values\n",
    "from binance.helpers import date_to_milliseconds, interval_to_milliseconds\n",
    "from dateutil.relativedelta import relativedelta\n",
    "from dateutil.parser import parse\n",
    "import time\n",
    "load_dotenv()"
   ]
  },
  {
   "cell_type": "code",
   "execution_count": 3,
   "id": "0d85afa7-52c7-4ca8-a5a1-94680a141540",
   "metadata": {},
   "outputs": [],
   "source": [
    "API_KEY = os.getenv(\"API_KEY\")\n",
    "SECRET_KEY = os.getenv(\"SECRET_KEY\")\n",
    "MINIO_USER = os.getenv(\"MINIO_ROOT_USER\")\n",
    "MINIO_PASSWORD = os.getenv(\"MINIO_ROOT_PASSWORD\")\n",
    "client_binance = Client(API_KEY, SECRET_KEY)"
   ]
  },
  {
   "cell_type": "code",
   "execution_count": 4,
   "id": "35a6ee15-b03e-4b10-8ba7-6f86fff5774f",
   "metadata": {
    "scrolled": true
   },
   "outputs": [
    {
     "name": "stderr",
     "output_type": "stream",
     "text": [
      "Setting default log level to \"WARN\".\n",
      "To adjust logging level use sc.setLogLevel(newLevel). For SparkR, use setLogLevel(newLevel).\n",
      "25/03/11 20:39:38 WARN NativeCodeLoader: Unable to load native-hadoop library for your platform... using builtin-java classes where applicable\n"
     ]
    },
    {
     "data": {
      "text/plain": [
       "'\\nsc._jsc.hadoopConfiguration().set(\"fs.s3a.path.style.access\", \"true\")\\nsc._jsc.hadoopConfiguration().set(\"fs.s3a.connection.ssl.enabled\", \"false\")\\nsc._jsc.hadoopConfiguration().set(\"fs.s3a.impl\", \"org.apache.hadoop.fs.s3a.S3AFileSystem\")\\nsc._jsc.hadoopConfiguration().set(\"fs.s3a.connection.ssl.enabled\", \"false\")'"
      ]
     },
     "execution_count": 4,
     "metadata": {},
     "output_type": "execute_result"
    },
    {
     "name": "stderr",
     "output_type": "stream",
     "text": [
      "6:67: E261 at least two spaces before inline comment\n",
      "6:67: E262 inline comment should start with '# '\n",
      "6:80: E501 line too long (101 > 79 characters)\n",
      "6:102: W291 trailing whitespace\n",
      "12:80: E501 line too long (80 > 79 characters)\n",
      "19:80: E501 line too long (90 > 79 characters)\n",
      "21:1: W391 blank line at end of file\n"
     ]
    }
   ],
   "source": [
    "spark = SparkSession.builder \\\n",
    "    .appName(\"CryptoETL\") \\\n",
    "    .getOrCreate()\n",
    "# Get the SparkContext from the SparkSession\n",
    "sc = spark.sparkContext\n",
    "sc._jsc.hadoopConfiguration().set(\"fs.s3a.access.key\", MINIO_USER)#turn into access key in the future \n",
    "sc._jsc.hadoopConfiguration().set(\"fs.s3a.secret.key\", MINIO_PASSWORD)\n",
    "sc._jsc.hadoopConfiguration().set(\"fs.s3a.endpoint\", \"http://localhost:9000\")\n",
    "sc._jsc.hadoopConfiguration().set(\"fs.s3a.connection.ssl.enabled\", \"true\")\n",
    "sc._jsc.hadoopConfiguration().set(\"fs.s3a.path.style.access\", \"true\")\n",
    "sc._jsc.hadoopConfiguration().set(\"fs.s3a.attempts.maximum\", \"1\")\n",
    "sc._jsc.hadoopConfiguration().set(\"fs.s3a.connection.establish.timeout\", \"5000\")\n",
    "sc._jsc.hadoopConfiguration().set(\"fs.s3a.connection.timeout\", \"10000\")\n",
    "\n",
    "\n",
    "'''\n",
    "sc._jsc.hadoopConfiguration().set(\"fs.s3a.path.style.access\", \"true\")\n",
    "sc._jsc.hadoopConfiguration().set(\"fs.s3a.connection.ssl.enabled\", \"false\")\n",
    "sc._jsc.hadoopConfiguration().set(\"fs.s3a.impl\", \"org.apache.hadoop.fs.s3a.S3AFileSystem\")\n",
    "sc._jsc.hadoopConfiguration().set(\"fs.s3a.connection.ssl.enabled\", \"false\")'''\n"
   ]
  },
  {
   "cell_type": "code",
   "execution_count": 5,
   "id": "dba7af90-e48f-4df7-9d26-bf3d55fb6b52",
   "metadata": {},
   "outputs": [
    {
     "name": "stderr",
     "output_type": "stream",
     "text": [
      "2:1: E265 block comment should start with '# '\n",
      "3:1: E265 block comment should start with '# '\n"
     ]
    }
   ],
   "source": [
    "# tickers = client.get_all_tickers()\n",
    "#client_binance.get_exchange_info() #has rate limit info\n",
    "#client_binance.response.headers #has info on current usage"
   ]
  },
  {
   "cell_type": "code",
   "execution_count": 6,
   "id": "43221467-2c02-43e1-9e97-1b05e89fcc52",
   "metadata": {},
   "outputs": [],
   "source": [
    "# start_datetime = datetime.strptime(\"01-01-2023\", '%d-%m-%Y')\n",
    "# start_date = start_datetime.strftime(\"%Y-%m-%dT%H:%M:%SZ\")\n",
    "\n",
    "# end_datetime = datetime.strptime(\"01-01-2024\", '%d-%m-%Y')\n",
    "# end_date_date = end_datetime.strftime(\"%Y-%m-%dT%H:%M:%SZ\")"
   ]
  },
  {
   "cell_type": "code",
   "execution_count": 7,
   "id": "86d304b3-3880-4ed4-bf04-e68514faaaef",
   "metadata": {},
   "outputs": [
    {
     "name": "stderr",
     "output_type": "stream",
     "text": [
      "1:21: E231 missing whitespace after ','\n",
      "1:31: E231 missing whitespace after ','\n",
      "1:41: E231 missing whitespace after ','\n",
      "1:51: E231 missing whitespace after ','\n"
     ]
    }
   ],
   "source": [
    "cryptos = ['BTCUSDT','ETHUSDT','LTCUSDT','BNBUSDT','DOGEUSDT']"
   ]
  },
  {
   "cell_type": "code",
   "execution_count": 39,
   "id": "a39c63e2-2521-4f36-969e-b0bfd8217a00",
   "metadata": {},
   "outputs": [
    {
     "ename": "NameError",
     "evalue": "name 'interval' is not defined",
     "output_type": "error",
     "traceback": [
      "\u001b[0;31m---------------------------------------------------------------------------\u001b[0m",
      "\u001b[0;31mNameError\u001b[0m                                 Traceback (most recent call last)",
      "Cell \u001b[0;32mIn[39], line 2\u001b[0m\n\u001b[1;32m      1\u001b[0m klines \u001b[38;5;241m=\u001b[39m client_binance\u001b[38;5;241m.\u001b[39mget_historical_klines(\n\u001b[0;32m----> 2\u001b[0m     symbol\u001b[38;5;241m=\u001b[39msymbol, interval\u001b[38;5;241m=\u001b[39m\u001b[43minterval\u001b[49m, start_str\u001b[38;5;241m=\u001b[39mstart_date, end_str\u001b[38;5;241m=\u001b[39mend_date, limit\u001b[38;5;241m=\u001b[39m\u001b[38;5;241m1000\u001b[39m \n\u001b[1;32m      3\u001b[0m )\n",
      "\u001b[0;31mNameError\u001b[0m: name 'interval' is not defined"
     ]
    },
    {
     "name": "stderr",
     "output_type": "stream",
     "text": [
      "2:80: E501 line too long (88 > 79 characters)\n",
      "INFO:pycodestyle:2:80: E501 line too long (88 > 79 characters)\n",
      "2:89: W291 trailing whitespace\n",
      "INFO:pycodestyle:2:89: W291 trailing whitespace\n"
     ]
    }
   ],
   "source": [
    "klines = client_binance.get_historical_klines(\n",
    "    symbol=symbol, interval=interval, start_str=start_date, end_str=end_date, limit=1000 \n",
    ")"
   ]
  },
  {
   "cell_type": "code",
   "execution_count": 7,
   "id": "4393b31e-4565-42a9-b29f-4302fb8066b4",
   "metadata": {
    "scrolled": true
   },
   "outputs": [
    {
     "name": "stderr",
     "output_type": "stream",
     "text": [
      "1:1: E265 block comment should start with '# '\n",
      "2:1: E265 block comment should start with '# '\n",
      "3:1: E265 block comment should start with '# '\n",
      "3:80: E501 line too long (81 > 79 characters)\n",
      "4:1: E265 block comment should start with '# '\n",
      "5:1: E265 block comment should start with '# '\n",
      "6:1: E265 block comment should start with '# '\n",
      "7:1: E265 block comment should start with '# '\n",
      "8:1: E265 block comment should start with '# '\n",
      "9:1: E265 block comment should start with '# '\n",
      "10:28: E231 missing whitespace after ','\n",
      "10:37: E231 missing whitespace after ','\n",
      "10:48: E231 missing whitespace after ','\n",
      "15:13: E122 continuation line missing indentation or outdented\n",
      "15:80: E501 line too long (96 > 79 characters)\n",
      "15:97: W291 trailing whitespace\n",
      "17:22: E225 missing whitespace around operator\n",
      "18:13: E265 block comment should start with '# '\n",
      "20:13: E265 block comment should start with '# '\n",
      "20:80: E501 line too long (87 > 79 characters)\n",
      "23:13: E265 block comment should start with '# '\n",
      "24:80: E501 line too long (101 > 79 characters)\n",
      "26:29: E222 multiple spaces after operator\n",
      "29:13: E265 block comment should start with '# '\n",
      "37:1: W293 blank line contains whitespace\n"
     ]
    }
   ],
   "source": [
    "#create a loop where start date,end date and output data are defined\n",
    "#in loop says while end date is greater than start date, keep going\n",
    "#check last value in output data, add last timeframe and use it as new start date\n",
    "#if client_binance.response.headers['x-mbx-used-weight'] == 5000: sleep 30\n",
    "#print used weight response head to monitor\n",
    "#try and except that shows api error codes\n",
    "#start_datetime = datetime.strptime(start_date, '%d-%m-%Y')\n",
    "#end_datetime = datetime.strptime(end_date, '%d-%m-%Y')\n",
    "#implement binance api exception\n",
    "def get_data_monthly(symbol,interval,start_date,end_date):\n",
    "    output = []\n",
    "    try:\n",
    "        while end_date > start_date:\n",
    "            data = client_binance.get_historical_klines(\n",
    "            symbol=symbol, interval=interval, start_str=start_date, end_str=end_date, limit=1000 \n",
    "            )\n",
    "            output +=data\n",
    "            #timeframe = interval_to_milliseconds(interval)\n",
    "            last_date = data[-1][0]\n",
    "            #get month and year from last date and compare with end_date month and year\n",
    "            last_datetime = datetime.utcfromtimestamp(last_date / 1000)\n",
    "            end_datetime = datetime.strptime(end_date, '%d-%m-%Y')\n",
    "            #the below is to check last data point\n",
    "            if last_datetime.year == end_datetime.year and last_datetime.month == end_datetime.month:\n",
    "                break\n",
    "            start_datetime =  last_datetime + relativedelta(months=1)\n",
    "            start_date = str(start_datetime)\n",
    "            print(client_binance.response.headers['x-mbx-used-weight'])\n",
    "            #for daily add sleep function\n",
    "            if client_binance.response.headers['x-mbx-used-weight'] == 5000:\n",
    "                time.sleep(10)\n",
    "        return output\n",
    "    except Exception as e:\n",
    "        print(\"An exception occurred:\", type(e).__name__, \"–\", e)\n",
    "\n",
    "\n",
    "    "
   ]
  },
  {
   "cell_type": "code",
   "execution_count": null,
   "id": "deb2ddab-286b-4606-84d6-0db6a02234cc",
   "metadata": {
    "scrolled": true
   },
   "outputs": [],
   "source": [
    "# api response structure\n",
    "\"\"\"[\n",
    "  [\n",
    "    1499040000000,      // Kline open time\n",
    "    \"0.01634790\",       // Open price\n",
    "    \"0.80000000\",       // High price\n",
    "    \"0.01575800\",       // Low price\n",
    "    \"0.01577100\",       // Close price\n",
    "    \"148976.11427815\",  // Volume\n",
    "    1499644799999,      // Kline Close time\n",
    "    \"2434.19055334\",    // Quote asset volume\n",
    "    308,                // Number of trades\n",
    "    \"1756.87402397\",    // Taker buy base asset volume\n",
    "    \"28.46694368\",      // Taker buy quote asset volume\n",
    "    \"0\"                 // Unused field, ignore.\n",
    "  ]\n",
    "]\"\"\""
   ]
  },
  {
   "cell_type": "code",
   "execution_count": 16,
   "id": "2dd2be5c-788d-4acf-b930-d64a93e3ba2f",
   "metadata": {
    "scrolled": true
   },
   "outputs": [],
   "source": [
    "columns = [\n",
    "    \"Kline open time\",\n",
    "    \"Open Price\",\n",
    "    \"High price\",\n",
    "    \"Low price\",\n",
    "    \"Close Price\",\n",
    "    \"Volume\",\n",
    "    \"Kline Close time\",\n",
    "    \"Quote asset volume\",\n",
    "    \"Number of trades\",\n",
    "    \"Taker buy base asset volume\",\n",
    "    \"Taker buy quote asset volume\",\n",
    "    \"Ignore\",\n",
    "]"
   ]
  },
  {
   "cell_type": "code",
   "execution_count": 13,
   "id": "c5e4f16a-223b-46c8-92b5-854562d762a4",
   "metadata": {},
   "outputs": [
    {
     "name": "stderr",
     "output_type": "stream",
     "text": [
      "1:28: E231 missing whitespace after ','\n",
      "2:5: E265 block comment should start with '# '\n",
      "4:80: E501 line too long (93 > 79 characters)\n",
      "5:48: E231 missing whitespace after ','\n",
      "6:30: E231 missing whitespace after ','\n",
      "6:43: E231 missing whitespace after ','\n",
      "6:57: E231 missing whitespace after ','\n",
      "8:8: E127 continuation line over-indented for visual indent\n"
     ]
    }
   ],
   "source": [
    "def spark_df_monthly(output,columns):\n",
    "    #implement schema check\n",
    "    dataframe = spark.createDataFrame(output, columns)\n",
    "    df = dataframe.withColumn(\"Kline open time\", to_timestamp(col(\"Kline open time\") / 1000))\n",
    "    df = df.withColumnRenamed(\"Kline open time\",\"datetime\")\n",
    "    df = df.select('datetime','Open Price','Close Price','Volume')\n",
    "    df = df.withColumn(\"year\", year(df[\"datetime\"])) \\\n",
    "       .withColumn(\"month\", month(df[\"datetime\"]))\n",
    "    return df"
   ]
  },
  {
   "cell_type": "code",
   "execution_count": 25,
   "id": "953fec13-3db5-4a6c-8f36-2886cd59d3f0",
   "metadata": {},
   "outputs": [
    {
     "name": "stderr",
     "output_type": "stream",
     "text": [
      "1:27: E231 missing whitespace after ','\n",
      "1:38: E231 missing whitespace after ','\n",
      "1:53: E231 missing whitespace after ','\n",
      "1:60: E231 missing whitespace after ','\n",
      "1:72: E231 missing whitespace after ','\n",
      "1:80: E501 line too long (86 > 79 characters)\n",
      "1:82: E231 missing whitespace after ','\n",
      "4:5: E122 continuation line missing indentation or outdented\n",
      "4:5: E265 block comment should start with '# '\n",
      "5:5: E122 continuation line missing indentation or outdented\n",
      "6:5: E122 continuation line missing indentation or outdented\n",
      "6:15: E251 unexpected spaces around keyword / parameter equals\n",
      "6:17: E251 unexpected spaces around keyword / parameter equals\n",
      "7:5: E122 continuation line missing indentation or outdented\n",
      "7:15: E251 unexpected spaces around keyword / parameter equals\n",
      "7:17: E251 unexpected spaces around keyword / parameter equals\n",
      "8:5: E122 continuation line missing indentation or outdented\n",
      "11:5: E122 continuation line missing indentation or outdented\n",
      "12:5: E122 continuation line missing indentation or outdented\n",
      "14:1: W293 blank line contains whitespace\n"
     ]
    }
   ],
   "source": [
    "def upload_minio(minio_url,minio_user,minio_password,symbol,bucket_name,timeframe,df):\n",
    "    pass\n",
    "    client_minio = Minio(\n",
    "    #\"localhost:9000\",  # Make sure you're using port 9000 for the S3 API\n",
    "    minio_url,\n",
    "    access_key = minio_user,\n",
    "    secret_key = minio_password,\n",
    "    secure=False  # Disable SSL if you're not using SSL certificates\n",
    "    )\n",
    "    df.write.mode(\"append\") \\\n",
    "    .partitionBy(\"year\", \"month\") \\\n",
    "    .parquet(f\"s3a://{bucket_name}/{symbol}/{timeframe}\")\n",
    "    return f\"Successfully {symbol} {timeframe} uploaded to minio\"\n",
    "    "
   ]
  },
  {
   "cell_type": "code",
   "execution_count": null,
   "id": "c78702b5-e849-457c-ab35-a3d15605df5e",
   "metadata": {},
   "outputs": [],
   "source": [
    "#df.write.csv('test',header = True)"
   ]
  },
  {
   "cell_type": "code",
   "execution_count": null,
   "id": "85ef5e4b-f460-4a8a-82e3-eb3978639728",
   "metadata": {},
   "outputs": [],
   "source": [
    "#df.coalesce(1).write.csv(\"csv\", header=True)\n",
    "'''\n",
    "destination_file = 'csv'\n",
    "source_file = './csv/part-00000-403543db-3e05-4013-a90b-934dff0f9694-c000.csv' #just an object not technically a file\n",
    "bucket_name = 'bucket1'\n",
    "client_minio.fput_object(\n",
    "        bucket_name, destination_file, source_file,\n",
    "    )\n",
    "'''"
   ]
  },
  {
   "cell_type": "code",
   "execution_count": 26,
   "id": "487b23c1-55ed-434b-a739-327956b2b382",
   "metadata": {
    "scrolled": true
   },
   "outputs": [
    {
     "name": "stderr",
     "output_type": "stream",
     "text": [
      "3:5: E122 continuation line missing indentation or outdented\n",
      "4:5: E122 continuation line missing indentation or outdented\n",
      "5:5: E122 continuation line missing indentation or outdented\n",
      "6:5: E122 continuation line missing indentation or outdented\n",
      "7:5: E122 continuation line missing indentation or outdented\n",
      "8:5: E122 continuation line missing indentation or outdented\n",
      "9:5: E122 continuation line missing indentation or outdented\n",
      "10:5: E122 continuation line missing indentation or outdented\n",
      "11:5: E122 continuation line missing indentation or outdented\n",
      "12:5: E122 continuation line missing indentation or outdented\n",
      "13:5: E122 continuation line missing indentation or outdented\n",
      "14:5: E122 continuation line missing indentation or outdented\n",
      "16:35: E251 unexpected spaces around keyword / parameter equals\n",
      "16:37: E251 unexpected spaces around keyword / parameter equals\n",
      "16:44: E231 missing whitespace after ','\n",
      "16:53: E251 unexpected spaces around keyword / parameter equals\n",
      "16:55: E251 unexpected spaces around keyword / parameter equals\n",
      "16:60: E231 missing whitespace after ','\n",
      "16:71: E251 unexpected spaces around keyword / parameter equals\n",
      "16:73: E251 unexpected spaces around keyword / parameter equals\n",
      "16:80: E501 line too long (110 > 79 characters)\n",
      "16:86: E231 missing whitespace after ','\n",
      "16:95: E251 unexpected spaces around keyword / parameter equals\n",
      "16:97: E251 unexpected spaces around keyword / parameter equals\n",
      "17:39: E231 missing whitespace after ','\n",
      "18:27: E251 unexpected spaces around keyword / parameter equals\n",
      "18:29: E251 unexpected spaces around keyword / parameter equals\n",
      "18:46: E231 missing whitespace after ','\n",
      "18:57: E251 unexpected spaces around keyword / parameter equals\n",
      "18:59: E251 unexpected spaces around keyword / parameter equals\n",
      "18:70: E203 whitespace before ','\n",
      "18:71: E231 missing whitespace after ','\n",
      "18:80: E501 line too long (181 > 79 characters)\n",
      "18:86: E251 unexpected spaces around keyword / parameter equals\n",
      "18:88: E251 unexpected spaces around keyword / parameter equals\n",
      "18:103: E203 whitespace before ','\n",
      "18:104: E231 missing whitespace after ','\n",
      "18:111: E251 unexpected spaces around keyword / parameter equals\n",
      "18:113: E251 unexpected spaces around keyword / parameter equals\n",
      "18:120: E203 whitespace before ','\n",
      "18:121: E231 missing whitespace after ','\n",
      "18:133: E251 unexpected spaces around keyword / parameter equals\n",
      "18:135: E251 unexpected spaces around keyword / parameter equals\n",
      "18:145: E231 missing whitespace after ','\n",
      "18:165: E231 missing whitespace after ','\n",
      "18:168: E251 unexpected spaces around keyword / parameter equals\n",
      "18:170: E251 unexpected spaces around keyword / parameter equals\n",
      "20:5: E265 block comment should start with '# '\n"
     ]
    }
   ],
   "source": [
    "def minio_pipeline_monthly():\n",
    "    columns = [\n",
    "    \"Kline open time\",\n",
    "    \"Open Price\",\n",
    "    \"High price\",\n",
    "    \"Low price\",\n",
    "    \"Close Price\",\n",
    "    \"Volume\",\n",
    "    \"Kline Close time\",\n",
    "    \"Quote asset volume\",\n",
    "    \"Number of trades\",\n",
    "    \"Taker buy base asset volume\",\n",
    "    \"Taker buy quote asset volume\",\n",
    "    \"Ignore\",\n",
    "    ]\n",
    "    data = get_data_monthly(symbol = symbol,interval = '1M',start_date = \"01-01-2019\",end_date = \"31-12-2024\")\n",
    "    df_monthly = spark_df_monthly(data,columns)\n",
    "    upload_minio(minio_url = 'localhost:9000',minio_user = MINIO_USER ,minio_password = MINIO_PASSWORD ,symbol = symbol ,bucket_name = 'bucket1',timeframe='Monthly',df = df_monthly)\n",
    "    return \"Successfully ran monthly pipeline to minio\"\n",
    "    #implement try and except, api codes from minio and binance\n",
    "    #implement schema check"
   ]
  },
  {
   "cell_type": "code",
   "execution_count": 27,
   "id": "7ce2a0ec-c901-4ceb-8d18-16e1c28589c3",
   "metadata": {
    "collapsed": true,
    "jupyter": {
     "outputs_hidden": true
    }
   },
   "outputs": [
    {
     "name": "stderr",
     "output_type": "stream",
     "text": [
      "25/03/11 12:43:19 WARN MetricsConfig: Cannot locate configuration: tried hadoop-metrics2-s3a-file-system.properties,hadoop-metrics2.properties\n",
      "25/03/11 12:43:21 WARN MemoryManager: Total allocation exceeds 95.00% (1,020,054,720 bytes) of heap memory\n",
      "Scaling row group sizes to 95.00% for 8 writers\n",
      "25/03/11 12:43:21 WARN MemoryManager: Total allocation exceeds 95.00% (1,020,054,720 bytes) of heap memory\n",
      "Scaling row group sizes to 95.00% for 8 writers\n",
      "25/03/11 12:43:21 WARN MemoryManager: Total allocation exceeds 95.00% (1,020,054,720 bytes) of heap memory\n",
      "Scaling row group sizes to 95.00% for 8 writers\n",
      "25/03/11 12:43:21 WARN MemoryManager: Total allocation exceeds 95.00% (1,020,054,720 bytes) of heap memory\n",
      "Scaling row group sizes to 95.00% for 8 writers\n",
      "25/03/11 12:43:23 WARN MemoryManager: Total allocation exceeds 95.00% (1,020,054,720 bytes) of heap memory\n",
      "Scaling row group sizes to 95.00% for 8 writers\n",
      "25/03/11 12:43:24 WARN MemoryManager: Total allocation exceeds 95.00% (1,020,054,720 bytes) of heap memory\n",
      "Scaling row group sizes to 95.00% for 8 writers\n",
      "25/03/11 12:43:24 WARN MemoryManager: Total allocation exceeds 95.00% (1,020,054,720 bytes) of heap memory\n",
      "Scaling row group sizes to 95.00% for 8 writers\n",
      "25/03/11 12:43:24 WARN MemoryManager: Total allocation exceeds 95.00% (1,020,054,720 bytes) of heap memory\n",
      "Scaling row group sizes to 95.00% for 8 writers\n",
      "25/03/11 12:43:25 WARN MemoryManager: Total allocation exceeds 95.00% (1,020,054,720 bytes) of heap memory\n",
      "Scaling row group sizes to 95.00% for 8 writers\n",
      "25/03/11 12:43:25 WARN MemoryManager: Total allocation exceeds 95.00% (1,020,054,720 bytes) of heap memory\n",
      "Scaling row group sizes to 95.00% for 8 writers\n",
      "25/03/11 12:43:25 WARN MemoryManager: Total allocation exceeds 95.00% (1,020,054,720 bytes) of heap memory\n",
      "Scaling row group sizes to 95.00% for 8 writers\n",
      "25/03/11 12:43:25 WARN MemoryManager: Total allocation exceeds 95.00% (1,020,054,720 bytes) of heap memory\n",
      "Scaling row group sizes to 95.00% for 8 writers\n",
      "25/03/11 12:43:25 WARN MemoryManager: Total allocation exceeds 95.00% (1,020,054,720 bytes) of heap memory\n",
      "Scaling row group sizes to 95.00% for 8 writers\n",
      "25/03/11 12:43:25 WARN MemoryManager: Total allocation exceeds 95.00% (1,020,054,720 bytes) of heap memory\n",
      "Scaling row group sizes to 95.00% for 8 writers\n",
      "25/03/11 12:43:25 WARN MemoryManager: Total allocation exceeds 95.00% (1,020,054,720 bytes) of heap memory\n",
      "Scaling row group sizes to 95.00% for 8 writers\n",
      "25/03/11 12:43:27 WARN MemoryManager: Total allocation exceeds 95.00% (1,020,054,720 bytes) of heap memory\n",
      "Scaling row group sizes to 95.00% for 8 writers\n",
      "25/03/11 12:43:27 WARN MemoryManager: Total allocation exceeds 95.00% (1,020,054,720 bytes) of heap memory\n",
      "Scaling row group sizes to 95.00% for 8 writers\n",
      "25/03/11 12:43:29 WARN MemoryManager: Total allocation exceeds 95.00% (1,020,054,720 bytes) of heap memory\n",
      "Scaling row group sizes to 95.00% for 8 writers\n",
      "25/03/11 12:43:29 WARN MemoryManager: Total allocation exceeds 95.00% (1,020,054,720 bytes) of heap memory\n",
      "Scaling row group sizes to 95.00% for 8 writers\n",
      "25/03/11 12:43:29 WARN MemoryManager: Total allocation exceeds 95.00% (1,020,054,720 bytes) of heap memory\n",
      "Scaling row group sizes to 95.00% for 8 writers\n",
      "25/03/11 12:43:29 WARN MemoryManager: Total allocation exceeds 95.00% (1,020,054,720 bytes) of heap memory\n",
      "Scaling row group sizes to 95.00% for 8 writers\n",
      "25/03/11 12:43:29 WARN MemoryManager: Total allocation exceeds 95.00% (1,020,054,720 bytes) of heap memory\n",
      "Scaling row group sizes to 95.00% for 8 writers\n",
      "25/03/11 12:43:29 WARN MemoryManager: Total allocation exceeds 95.00% (1,020,054,720 bytes) of heap memory\n",
      "Scaling row group sizes to 95.00% for 8 writers\n",
      "25/03/11 12:43:29 WARN MemoryManager: Total allocation exceeds 95.00% (1,020,054,720 bytes) of heap memory\n",
      "Scaling row group sizes to 95.00% for 8 writers\n",
      "25/03/11 12:43:29 WARN MemoryManager: Total allocation exceeds 95.00% (1,020,054,720 bytes) of heap memory\n",
      "Scaling row group sizes to 95.00% for 8 writers\n",
      "3:1: W293 blank line contains whitespace\n"
     ]
    }
   ],
   "source": [
    "for symbol in cryptos:\n",
    "    minio_pipeline_monthly()\n",
    "    "
   ]
  },
  {
   "cell_type": "code",
   "execution_count": null,
   "id": "e6a0ec56-8517-42d9-ad4b-6aa969df0649",
   "metadata": {},
   "outputs": [],
   "source": []
  }
 ],
 "metadata": {
  "kernelspec": {
   "display_name": "Python 3 (ipykernel)",
   "language": "python",
   "name": "python3"
  },
  "language_info": {
   "codemirror_mode": {
    "name": "ipython",
    "version": 3
   },
   "file_extension": ".py",
   "mimetype": "text/x-python",
   "name": "python",
   "nbconvert_exporter": "python",
   "pygments_lexer": "ipython3",
   "version": "3.9.1"
  }
 },
 "nbformat": 4,
 "nbformat_minor": 5
}
