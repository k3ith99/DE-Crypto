{
 "cells": [
  {
   "cell_type": "code",
   "execution_count": 1,
   "id": "a2610a2d-8b5a-4e7a-ae7b-a53bea4fca9f",
   "metadata": {},
   "outputs": [],
   "source": [
    "%load_ext pycodestyle_magic\n",
    "%pycodestyle_on\n",
    "# %pycodestyle_off -to turn it off"
   ]
  },
  {
   "cell_type": "code",
   "execution_count": 1,
   "id": "176ccd7b-e558-4275-a61f-9ea5b537ff64",
   "metadata": {},
   "outputs": [
    {
     "data": {
      "text/plain": [
       "True"
      ]
     },
     "execution_count": 1,
     "metadata": {},
     "output_type": "execute_result"
    }
   ],
   "source": [
    "from minio import Minio\n",
    "from pyspark import SparkContext\n",
    "from pyspark.sql import SparkSession\n",
    "from pyspark.sql.functions import col, to_timestamp, month, year,monotonically_increasing_id,row_number\n",
    "from pyspark.sql.types import StructType, StructField, IntegerType, FloatType, LongType,TimestampNTZType,StringType\n",
    "from pyspark.sql.window import Window\n",
    "from pyspark.conf import SparkConf\n",
    "import requests\n",
    "import json\n",
    "import pandas as pd\n",
    "from binance import Client\n",
    "from datetime import datetime, date\n",
    "import os\n",
    "from dotenv import load_dotenv, dotenv_values\n",
    "from binance.helpers import date_to_milliseconds, interval_to_milliseconds\n",
    "from binance.exceptions import BinanceRequestException, BinanceAPIException\n",
    "from dateutil.relativedelta import relativedelta\n",
    "from dateutil.parser import parse\n",
    "import time\n",
    "import logging\n",
    "import psycopg2\n",
    "load_dotenv()"
   ]
  },
  {
   "cell_type": "code",
   "execution_count": 2,
   "id": "0d85afa7-52c7-4ca8-a5a1-94680a141540",
   "metadata": {},
   "outputs": [],
   "source": [
    "API_KEY = os.getenv(\"API_KEY\")\n",
    "SECRET_KEY = os.getenv(\"SECRET_KEY\")\n",
    "MINIO_USER = os.getenv(\"MINIO_ROOT_USER\")\n",
    "MINIO_PASSWORD = os.getenv(\"MINIO_ROOT_PASSWORD\")\n",
    "client_binance = Client(API_KEY, SECRET_KEY)"
   ]
  },
  {
   "cell_type": "code",
   "execution_count": 3,
   "id": "28ff7f05-169f-4a3c-9aa2-879cb8d4ab45",
   "metadata": {},
   "outputs": [],
   "source": [
    "#conf = SparkConf()  # create the configuration\n",
    "#conf.set(\"spark.jars\", \"/Users/hamza/.local/share/virtualenvs/DE-Crypto-aeKJmBel/lib/python3.9/site-packages/pyspark/jars/Users/hamza/.local/share/virtualenvs/DE-Crypto-aeKJmBel/lib/python3.9/site-packages/pyspark/jars/postgresql-42.7.5.jar\")  # set the spark.jars\n"
   ]
  },
  {
   "cell_type": "code",
   "execution_count": 4,
   "id": "443a3384-b5c7-4824-9bdd-cd0093557942",
   "metadata": {},
   "outputs": [
    {
     "name": "stderr",
     "output_type": "stream",
     "text": [
      "25/04/20 20:41:34 WARN NativeCodeLoader: Unable to load native-hadoop library for your platform... using builtin-java classes where applicable\n",
      "Setting default log level to \"WARN\".\n",
      "To adjust logging level use sc.setLogLevel(newLevel). For SparkR, use setLogLevel(newLevel).\n",
      "25/04/20 20:41:34 WARN Utils: Service 'SparkUI' could not bind on port 4040. Attempting port 4041.\n",
      "25/04/20 20:41:34 WARN Utils: Service 'SparkUI' could not bind on port 4041. Attempting port 4042.\n",
      "25/04/20 20:41:46 WARN GarbageCollectionMetrics: To enable non-built-in garbage collector(s) List(G1 Concurrent GC), users should configure it(them) to spark.eventLog.gcMetrics.youngGenerationGarbageCollectors or spark.eventLog.gcMetrics.oldGenerationGarbageCollectors\n"
     ]
    }
   ],
   "source": [
    "spark = SparkSession.builder \\\n",
    "    .appName(\"CryptoETL\") \\\n",
    "    .config(\"spark.jars\", \"/Users/hamza/Desktop/projects/postgresql-42.7.5.jar\") \\\n",
    "    .getOrCreate()\n",
    "# Get the SparkContext from the SparkSession\n",
    "sc = spark.sparkContext\n",
    "sc._jsc.hadoopConfiguration().set(\"fs.s3a.access.key\", MINIO_USER)#turn into access key in the future \n",
    "sc._jsc.hadoopConfiguration().set(\"fs.s3a.secret.key\", MINIO_PASSWORD)\n",
    "sc._jsc.hadoopConfiguration().set(\"fs.s3a.endpoint\", \"http://localhost:9000\")\n",
    "sc._jsc.hadoopConfiguration().set(\"fs.s3a.connection.ssl.enabled\", \"true\")\n",
    "sc._jsc.hadoopConfiguration().set(\"fs.s3a.path.style.access\", \"true\")\n",
    "sc._jsc.hadoopConfiguration().set(\"fs.s3a.attempts.maximum\", \"1\")\n",
    "sc._jsc.hadoopConfiguration().set(\"fs.s3a.connection.establish.timeout\", \"5000\")\n",
    "sc._jsc.hadoopConfiguration().set(\"fs.s3a.connection.timeout\", \"10000\")"
   ]
  },
  {
   "cell_type": "code",
   "execution_count": 5,
   "id": "e6a0ec56-8517-42d9-ad4b-6aa969df0649",
   "metadata": {},
   "outputs": [
    {
     "name": "stderr",
     "output_type": "stream",
     "text": [
      "1:1: E265 block comment should start with '# '\n",
      "2:1: E265 block comment should start with '# '\n",
      "3:1: E265 block comment should start with '# '\n",
      "4:1: E265 block comment should start with '# '\n",
      "5:1: E265 block comment should start with '# '\n",
      "6:1: E265 block comment should start with '# '\n"
     ]
    }
   ],
   "source": [
    "#read data for 1 crypto\n",
    "#schema check/validation need to do this, create spark df using schema struct\n",
    "#implement transformations\n",
    "#add unique id for crypto,price,time\n",
    "#split into 3 tables\n",
    "#upload to postgres db"
   ]
  },
  {
   "cell_type": "code",
   "execution_count": 6,
   "id": "7c43d2f8-5234-4968-83fb-0b2cd57e11ce",
   "metadata": {},
   "outputs": [
    {
     "name": "stderr",
     "output_type": "stream",
     "text": [
      "2:31: E261 at least two spaces before inline comment\n",
      "2:32: E262 inline comment should start with '# '\n",
      "6:1: W391 blank line at end of file\n"
     ]
    }
   ],
   "source": [
    "logger = logging.getLogger(__name__)\n",
    "logger.setLevel(logging.DEBUG) #set to debug to capture all levels\n",
    "if logger.hasHandlers():\n",
    "    logger.handlers.clear()\n",
    "logger.propagate = False\n"
   ]
  },
  {
   "cell_type": "code",
   "execution_count": 7,
   "id": "cfb41969-b14c-446a-a285-bad83f6241ec",
   "metadata": {},
   "outputs": [],
   "source": [
    "handler = logging.StreamHandler()\n",
    "handler.setLevel(logging.DEBUG)\n",
    "logger.addHandler(handler)"
   ]
  },
  {
   "cell_type": "code",
   "execution_count": 8,
   "id": "3c314b1a-efc6-48ad-9e52-4e33a35f7be9",
   "metadata": {},
   "outputs": [
    {
     "name": "stderr",
     "output_type": "stream",
     "text": [
      "1:21: E231 missing whitespace after ','\n",
      "1:31: E231 missing whitespace after ','\n",
      "1:41: E231 missing whitespace after ','\n",
      "1:51: E231 missing whitespace after ','\n",
      "4:9: E265 block comment should start with '# '\n",
      "5:19: E251 unexpected spaces around keyword / parameter equals\n",
      "5:21: E251 unexpected spaces around keyword / parameter equals\n",
      "6:19: E251 unexpected spaces around keyword / parameter equals\n",
      "6:21: E251 unexpected spaces around keyword / parameter equals\n"
     ]
    }
   ],
   "source": [
    "cryptos = ['BTCUSDT','ETHUSDT','LTCUSDT','BNBUSDT','DOGEUSDT']\n",
    "client_minio = Minio(\n",
    "        \"localhost:9000\",  # Make sure you're using port 9000 for the S3 API\n",
    "        #minio_url,\n",
    "        access_key = MINIO_USER,\n",
    "        secret_key = MINIO_PASSWORD,\n",
    "        secure=False  # Disable SSL if you're not using SSL certificates\n",
    "        )"
   ]
  },
  {
   "cell_type": "code",
   "execution_count": 9,
   "id": "ee1e80e8-32f9-49d4-b77f-d7e57b734a31",
   "metadata": {
    "scrolled": true
   },
   "outputs": [
    {
     "data": {
      "text/plain": [
       "'client_minio.fget_object(bucket_name = \"binancedata\", \\n                         object_name =\"BNBUSDT/Monthly/year=2019/month=1/part-00000-c9e58e49-1c79-4e98-b1a7-f0611e7acc19.c000.snappy.parquet\", \\n                         file_path =\"./downloaded.parquet\"\\n                        )'"
      ]
     },
     "execution_count": 9,
     "metadata": {},
     "output_type": "execute_result"
    },
    {
     "name": "stderr",
     "output_type": "stream",
     "text": [
      "1:57: W291 trailing whitespace\n",
      "2:80: E501 line too long (142 > 79 characters)\n",
      "2:143: W291 trailing whitespace\n",
      "5:1: E265 block comment should start with '# '\n",
      "6:1: E265 block comment should start with '# '\n",
      "6:80: E501 line too long (114 > 79 characters)\n"
     ]
    }
   ],
   "source": [
    "'''client_minio.fget_object(bucket_name = \"binancedata\", \n",
    "                         object_name =\"BNBUSDT/Monthly/year=2019/month=1/part-00000-c9e58e49-1c79-4e98-b1a7-f0611e7acc19.c000.snappy.parquet\", \n",
    "                         file_path =\"./downloaded.parquet\"\n",
    "                        )'''\n",
    "#binancedata/BNBUSDT/Monthly/year=2019/month=1\n",
    "#binancedata/BNBUSDT/Monthly/year=2019/month=1/part-00000-c9e58e49-1c79-4e98-b1a7-f0611e7acc19.c000.snappy.parquet"
   ]
  },
  {
   "cell_type": "code",
   "execution_count": 10,
   "id": "19fd25a1-c5e7-462e-a072-1b846e26ff9d",
   "metadata": {},
   "outputs": [
    {
     "name": "stderr",
     "output_type": "stream",
     "text": [
      "1:80: E501 line too long (84 > 79 characters)\n"
     ]
    }
   ],
   "source": [
    "objects = client_minio.list_objects(\"binancedata\", prefix=\"BNBUSDT\", recursive=True)\n",
    "filenames = [obj.object_name for obj in objects]\n",
    "filenames = [f for f in filenames if \"_SUCCESS\" not in f]"
   ]
  },
  {
   "cell_type": "code",
   "execution_count": 11,
   "id": "9f94ef50-3582-4690-bd26-c9f9f4cfa976",
   "metadata": {},
   "outputs": [
    {
     "data": {
      "text/plain": [
       "'client_minio.fget_object(bucket_name = \"binancedata\", \\n                         object_name =filenames[0], \\n                         file_path =local_file_path\\n                        )'"
      ]
     },
     "execution_count": 11,
     "metadata": {},
     "output_type": "execute_result"
    },
    {
     "name": "stderr",
     "output_type": "stream",
     "text": [
      "1:57: W291 trailing whitespace\n",
      "2:52: W291 trailing whitespace\n"
     ]
    }
   ],
   "source": [
    "'''client_minio.fget_object(bucket_name = \"binancedata\", \n",
    "                         object_name =filenames[0], \n",
    "                         file_path =local_file_path\n",
    "                        )'''"
   ]
  },
  {
   "cell_type": "code",
   "execution_count": 12,
   "id": "1e25b66d-fba0-4d88-923d-bf798ef318c6",
   "metadata": {
    "scrolled": true
   },
   "outputs": [
    {
     "data": {
      "text/plain": [
       "\"schema = StructType([                    StructField(name = 'Date',dataType = TimestampNTZType(),nullable = False),                     StructField(name= 'Open Price',dataType = LongType(),nullable =False),                     StructField(name= 'Close Price',dataType = LongType(),nullable =False),                     StructField(name= 'Volume',dataType = LongType(),nullable = False)                                ])\\n                    \""
      ]
     },
     "execution_count": 12,
     "metadata": {},
     "output_type": "execute_result"
    },
    {
     "name": "stderr",
     "output_type": "stream",
     "text": [
      "2:80: E501 line too long (96 > 79 characters)\n",
      "3:80: E501 line too long (92 > 79 characters)\n",
      "4:80: E501 line too long (93 > 79 characters)\n",
      "5:80: E501 line too long (87 > 79 characters)\n"
     ]
    }
   ],
   "source": [
    "'''schema = StructType([\\\n",
    "                    StructField(name = 'Date',dataType = TimestampNTZType(),nullable = False), \\\n",
    "                    StructField(name= 'Open Price',dataType = LongType(),nullable =False), \\\n",
    "                    StructField(name= 'Close Price',dataType = LongType(),nullable =False), \\\n",
    "                    StructField(name= 'Volume',dataType = LongType(),nullable = False)\\\n",
    "                                ])\n",
    "                    '''"
   ]
  },
  {
   "cell_type": "code",
   "execution_count": 13,
   "id": "27ae0b85-5911-4b9a-b0be-f2450bd28aca",
   "metadata": {},
   "outputs": [
    {
     "name": "stderr",
     "output_type": "stream",
     "text": [
      "25/04/20 14:17:09 WARN MetricsConfig: Cannot locate configuration: tried hadoop-metrics2-s3a-file-system.properties,hadoop-metrics2.properties\n",
      "1:80: E501 line too long (150 > 79 characters)\n"
     ]
    }
   ],
   "source": [
    "df_bnb = spark.read.parquet(\"s3a://binancedata/BNBUSDT/Monthly/year=2019/month=3/part-00000-4770a452-7828-40a3-b901-c42eda5f9c00.c000.snappy.parquet\")"
   ]
  },
  {
   "cell_type": "code",
   "execution_count": 14,
   "id": "baa4b2bf-4c00-4d74-be8a-29071a5a8796",
   "metadata": {},
   "outputs": [
    {
     "name": "stdout",
     "output_type": "stream",
     "text": [
      "+-------------------+-----------+-----------+------------------+\n",
      "|           datetime| Open Price|Close Price|            Volume|\n",
      "+-------------------+-----------+-----------+------------------+\n",
      "|2019-03-01 00:00:00|10.27770000|17.53760000|115379333.44000000|\n",
      "+-------------------+-----------+-----------+------------------+\n",
      "\n"
     ]
    }
   ],
   "source": [
    "df_bnb.show(10)"
   ]
  },
  {
   "cell_type": "code",
   "execution_count": 15,
   "id": "57f9b6b8-186e-4358-a864-c75403755c14",
   "metadata": {},
   "outputs": [
    {
     "name": "stderr",
     "output_type": "stream",
     "text": [
      "4:1: W293 blank line contains whitespace\n",
      "5:1: W293 blank line contains whitespace\n",
      "6:1: W293 blank line contains whitespace\n"
     ]
    }
   ],
   "source": [
    "for file in filenames:\n",
    "    df = spark.read.parquet(f\"s3a://binancedata/{file}\")\n",
    "    df_bnb = df_bnb.union(df)\n",
    "                            \n",
    "    \n",
    "    "
   ]
  },
  {
   "cell_type": "code",
   "execution_count": 16,
   "id": "4237a394-3060-46c0-b060-19502ed14da3",
   "metadata": {},
   "outputs": [
    {
     "name": "stderr",
     "output_type": "stream",
     "text": [
      "1:1: E265 block comment should start with '# '\n",
      "2:1: E265 block comment should start with '# '\n"
     ]
    }
   ],
   "source": [
    "#do transformations when its in spark df\n",
    "#push to postgres"
   ]
  },
  {
   "cell_type": "code",
   "execution_count": 17,
   "id": "13916bf5-2fc0-4f96-ba24-596c6a55ddb6",
   "metadata": {},
   "outputs": [
    {
     "name": "stdout",
     "output_type": "stream",
     "text": [
      "+-------------------+-----------+-----------+------------------+\n",
      "|           datetime| Open Price|Close Price|            Volume|\n",
      "+-------------------+-----------+-----------+------------------+\n",
      "|2019-03-01 00:00:00|10.27770000|17.53760000|115379333.44000000|\n",
      "|2019-01-01 00:00:00| 6.11390000| 6.22000000| 72126339.77000000|\n",
      "|2019-10-01 01:00:00|15.84930000|19.90990000| 53481014.91000000|\n",
      "|2019-11-01 00:00:00|19.90870000|15.71180000| 46441747.10000000|\n",
      "|2019-12-01 00:00:00|15.70300000|13.71610000| 38189582.55000000|\n",
      "+-------------------+-----------+-----------+------------------+\n",
      "only showing top 5 rows\n",
      "\n"
     ]
    }
   ],
   "source": [
    "df_bnb.show(5)"
   ]
  },
  {
   "cell_type": "code",
   "execution_count": 18,
   "id": "71835cff-90d7-4c32-a465-4490ea9d4d4a",
   "metadata": {},
   "outputs": [
    {
     "name": "stderr",
     "output_type": "stream",
     "text": [
      "3:5: E265 block comment should start with '# '\n",
      "4:5: E265 block comment should start with '# '\n",
      "5:5: E265 block comment should start with '# '\n",
      "7:1: W293 blank line contains whitespace\n"
     ]
    }
   ],
   "source": [
    "def data_cleaning():\n",
    "    pass\n",
    "    #drop duplicates\n",
    "    #convert data types\n",
    "    #drop null values\n",
    "\n",
    "    "
   ]
  },
  {
   "cell_type": "code",
   "execution_count": 19,
   "id": "236ac2e1-f8c2-4f85-ba6e-64fd6780e5b1",
   "metadata": {},
   "outputs": [
    {
     "name": "stderr",
     "output_type": "stream",
     "text": [
      "3:5: E265 block comment should start with '# '\n"
     ]
    }
   ],
   "source": [
    "def df_to_table():\n",
    "    pass\\\n",
    "    #read from postgres\n",
    "    #convert table to df and join with dataframe\n",
    "    #check if id\n",
    "    #convert dataframe to sql tables"
   ]
  },
  {
   "cell_type": "code",
   "execution_count": 20,
   "id": "fdcde5ab-c2cf-45c6-bc57-bd2a9507724d",
   "metadata": {},
   "outputs": [
    {
     "data": {
      "text/plain": [
       "DataFrame[datetime: timestamp, Open Price: string, Close Price: string, Volume: string]"
      ]
     },
     "execution_count": 20,
     "metadata": {},
     "output_type": "execute_result"
    },
    {
     "name": "stderr",
     "output_type": "stream",
     "text": [
      "25/04/20 14:17:27 WARN GarbageCollectionMetrics: To enable non-built-in garbage collector(s) List(G1 Concurrent GC), users should configure it(them) to spark.eventLog.gcMetrics.youngGenerationGarbageCollectors or spark.eventLog.gcMetrics.oldGenerationGarbageCollectors\n"
     ]
    }
   ],
   "source": [
    "df_bnb"
   ]
  },
  {
   "cell_type": "code",
   "execution_count": 24,
   "id": "4d9ac523-cee9-4e26-9c2e-4b8a823884fd",
   "metadata": {},
   "outputs": [],
   "source": [
    "conn = psycopg2.connect(\n",
    "    database=\"crypto\",  # Switch to the 'crypto' database\n",
    "    user=\"postgres\",\n",
    "    password=\"postgres\",\n",
    "    host=\"localhost\",\n",
    "    port=\"5432\",\n",
    ")\n",
    "conn.autocommit = True\n",
    "cursor = conn.cursor()"
   ]
  },
  {
   "cell_type": "code",
   "execution_count": 5,
   "id": "4baed1e4-db04-4e48-8bba-860d3460ae09",
   "metadata": {
    "scrolled": true
   },
   "outputs": [],
   "source": [
    "crypto_dict = [{\"name\":\"Bitcoin\",\"ticker\":\"BTC\"},\n",
    "               {\"name\":\"Ethereum\",\"ticker\":\"ETH\"},\n",
    "               {\"name\":\"Litecoin\",\"ticker\":\"LTC\"},\n",
    "               {\"name\":\"Dogecoin\",\"ticker\":\"DOGE\"},\n",
    "               {\"name\":\"BNB\",\"ticker\":\"BNB\"}\n",
    "              ]\n",
    "crypto_df = spark.createDataFrame(crypto_dict)\n",
    "#crypto_df = crypto_df.withColumn('id',monotonically_increasing_id())"
   ]
  },
  {
   "cell_type": "code",
   "execution_count": 6,
   "id": "d237af4a-aa3a-4959-9f30-be85185c6d89",
   "metadata": {},
   "outputs": [],
   "source": [
    "windowSpec = Window.orderBy(\"name\")\n",
    "\n",
    "# Add a sequential ID column starting from 10\n",
    "crypto_df = crypto_df.withColumn(\"id\", row_number().over(windowSpec) + 9)"
   ]
  },
  {
   "cell_type": "code",
   "execution_count": 7,
   "id": "c7e81b1e-a9ae-4ee9-95fe-8ea84ca87aab",
   "metadata": {
    "collapsed": true,
    "jupyter": {
     "outputs_hidden": true
    },
    "scrolled": true
   },
   "outputs": [
    {
     "name": "stderr",
     "output_type": "stream",
     "text": [
      "25/04/20 20:41:58 WARN WindowExec: No Partition Defined for Window operation! Moving all data to a single partition, this can cause serious performance degradation.\n",
      "25/04/20 20:41:58 WARN WindowExec: No Partition Defined for Window operation! Moving all data to a single partition, this can cause serious performance degradation.\n",
      "25/04/20 20:41:58 WARN WindowExec: No Partition Defined for Window operation! Moving all data to a single partition, this can cause serious performance degradation.\n",
      "                                                                                "
     ]
    },
    {
     "data": {
      "text/plain": [
       "[Row(name='BNB', ticker='BNB', id=10),\n",
       " Row(name='Bitcoin', ticker='BTC', id=11),\n",
       " Row(name='Dogecoin', ticker='DOGE', id=12),\n",
       " Row(name='Ethereum', ticker='ETH', id=13),\n",
       " Row(name='Litecoin', ticker='LTC', id=14)]"
      ]
     },
     "execution_count": 7,
     "metadata": {},
     "output_type": "execute_result"
    }
   ],
   "source": [
    "crypto_df.head(5)"
   ]
  },
  {
   "cell_type": "code",
   "execution_count": 8,
   "id": "f842c003-146b-4126-80d9-46df5db8acef",
   "metadata": {
    "scrolled": true
   },
   "outputs": [
    {
     "name": "stderr",
     "output_type": "stream",
     "text": [
      "25/04/20 20:42:06 WARN WindowExec: No Partition Defined for Window operation! Moving all data to a single partition, this can cause serious performance degradation.\n",
      "25/04/20 20:42:06 WARN WindowExec: No Partition Defined for Window operation! Moving all data to a single partition, this can cause serious performance degradation.\n",
      "25/04/20 20:42:06 WARN WindowExec: No Partition Defined for Window operation! Moving all data to a single partition, this can cause serious performance degradation.\n",
      "25/04/20 20:42:06 WARN WindowExec: No Partition Defined for Window operation! Moving all data to a single partition, this can cause serious performance degradation.\n",
      "25/04/20 20:42:06 WARN WindowExec: No Partition Defined for Window operation! Moving all data to a single partition, this can cause serious performance degradation.\n"
     ]
    }
   ],
   "source": [
    "crypto_df.write \\\n",
    "    .format(\"jdbc\") \\\n",
    "    .option(\"url\", \"jdbc:postgresql://localhost:5432/crypto\") \\\n",
    "    .option(\"dbtable\", \"crypto\") \\\n",
    "    .option(\"user\", \"postgres\") \\\n",
    "    .option(\"password\", \"postgres\") \\\n",
    "    .option(\"driver\", \"org.postgresql.Driver\") \\\n",
    "    .mode(\"append\")\\\n",
    "    .save()"
   ]
  },
  {
   "cell_type": "code",
   "execution_count": 7,
   "id": "2d0cf640-c538-40b1-923b-fed12aa8113b",
   "metadata": {},
   "outputs": [
    {
     "ename": "NameError",
     "evalue": "name 'cursor' is not defined",
     "output_type": "error",
     "traceback": [
      "\u001b[0;31m---------------------------------------------------------------------------\u001b[0m",
      "\u001b[0;31mNameError\u001b[0m                                 Traceback (most recent call last)",
      "Cell \u001b[0;32mIn[7], line 1\u001b[0m\n\u001b[0;32m----> 1\u001b[0m \u001b[43mcursor\u001b[49m\u001b[38;5;241m.\u001b[39mexecute(sql_tables)\n\u001b[1;32m      2\u001b[0m \u001b[38;5;28mprint\u001b[39m(\u001b[38;5;124m\"\u001b[39m\u001b[38;5;124mTables Crypto, Time and Price have been created successfully !!\u001b[39m\u001b[38;5;124m\"\u001b[39m)\n\u001b[1;32m      4\u001b[0m \u001b[38;5;66;03m# Closing the connection\u001b[39;00m\n",
      "\u001b[0;31mNameError\u001b[0m: name 'cursor' is not defined"
     ]
    }
   ],
   "source": [
    "cursor.execute(sql_tables)\n",
    "print(\"Tables Crypto, Time and Price have been created successfully !!\")\n",
    "\n",
    "# Closing the connection\n",
    "conn.close()"
   ]
  },
  {
   "cell_type": "code",
   "execution_count": 11,
   "id": "89f8ae31-6779-44fa-9c62-22df392d977f",
   "metadata": {},
   "outputs": [],
   "source": [
    "print(crypto_df.printSchema())"
   ]
  },
  {
   "cell_type": "code",
   "execution_count": 24,
   "id": "63aae260-c63a-4c9b-896d-b6b09f233045",
   "metadata": {},
   "outputs": [
    {
     "name": "stderr",
     "output_type": "stream",
     "text": [
      "2:1: W391 blank line at end of file\n"
     ]
    }
   ],
   "source": [
    "crypto_df = crypto_df.drop(\"id\")\n"
   ]
  },
  {
   "cell_type": "code",
   "execution_count": null,
   "id": "977c6ab7-f72c-40a6-bcc2-054c22cc8b16",
   "metadata": {},
   "outputs": [],
   "source": []
  }
 ],
 "metadata": {
  "kernelspec": {
   "display_name": "Python 3 (ipykernel)",
   "language": "python",
   "name": "python3"
  },
  "language_info": {
   "codemirror_mode": {
    "name": "ipython",
    "version": 3
   },
   "file_extension": ".py",
   "mimetype": "text/x-python",
   "name": "python",
   "nbconvert_exporter": "python",
   "pygments_lexer": "ipython3",
   "version": "3.9.1"
  }
 },
 "nbformat": 4,
 "nbformat_minor": 5
}
